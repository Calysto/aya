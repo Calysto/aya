{
 "cells": [
  {
   "cell_type": "markdown",
   "metadata": {},
   "source": [
    "TypeScript: JavaScript with Classes"
   ]
  },
  {
   "cell_type": "markdown",
   "metadata": {
    "collapsed": true
   },
   "source": [
    "typescript compiler: tsc greeter.ts                    \n"
   ]
  },
  {
   "cell_type": "markdown",
   "metadata": {},
   "source": [
    "Add a : string type annotation to the ‘person’ function argument"
   ]
  },
  {
   "cell_type": "markdown",
   "metadata": {},
   "source": [
    "function greeter(person: string) {\n",
    "    return \"Hello, \" + person;\n",
    "}\n",
    "\n",
    "var user = \"Jane User\";\n",
    "\n",
    "document.body.innerHTML = greeter(user);                "
   ]
  },
  {
   "cell_type": "markdown",
   "metadata": {},
   "source": [
    "\"However, JavaScript is the language of the Web today, so one could probably relate the programming activities to Web pages. Most learners are familiar with parts of a Web page, animations in a Web page, and other Web features that JavaScript can control. That might serve as a connection point.\" https://computinged.wordpress.com/2016/06/20/how-to-choose-programming-languages-for-learners/"
   ]
  },
  {
   "cell_type": "markdown",
   "metadata": {},
   "source": [
    "learns get overwhelmed with syntax and don't learn concepts"
   ]
  },
  {
   "cell_type": "markdown",
   "metadata": {},
   "source": [
    "*Type annotations in TypeScript are lightweight ways to record the intended contract of the function or variable. \n",
    "\n",
    "*use the above 'geeter' function to pass an array"
   ]
  },
  {
   "cell_type": "markdown",
   "metadata": {},
   "source": [
    "ERROR: Supplied parameters do not match any signature of call target"
   ]
  },
  {
   "cell_type": "markdown",
   "metadata": {},
   "source": [
    " TypeScript will let you know that you have called this function with an unexpected number of parameters. In both cases, TypeScript can offer static analysis based on both the structure of your code, and the type annotations you provide."
   ]
  },
  {
   "cell_type": "markdown",
   "metadata": {},
   "source": [
    " In TypeScript, two types are compatible if their internal structure is compatible. This allows us to implement an interface just by having the shape the interface requires, without an explicit implements clause."
   ]
  },
  {
   "cell_type": "markdown",
   "metadata": {},
   "source": [
    "classes and interfaces play well together, letting the programmer decide on the right level of abstraction."
   ]
  },
  {
   "cell_type": "markdown",
   "metadata": {},
   "source": [
    "A helpful addition to the standard set of datatypes from JavaScript is the enum. As in languages like C#, an enum is a way of giving more friendly names to sets of numeric values."
   ]
  },
  {
   "cell_type": "markdown",
   "metadata": {},
   "source": [
    "Type assertions are a way to tell the compiler “trust me, I know what I’m doing.” A type assertion is like a type cast in other languages, but performs no special checking or restructuring of data. It has no runtime impact, and is used purely by the compiler. TypeScript assumes that you, the programmer, have performed any special checks that you need.\n",
    "\n",
    "Type assertions have two forms. One is the “angle-bracket” syntax:\n",
    "\n",
    "let someValue: any = \"this is a string\";\n",
    "\n",
    "let strLength: number = (<string>someValue).length;\n",
    "And the other is the as-syntax:\n",
    "\n",
    "let someValue: any = \"this is a string\";\n",
    "\n",
    "let strLength: number = (someValue as string).length;\n"
   ]
  },
  {
   "cell_type": "markdown",
   "metadata": {},
   "source": [
    "when using TypeScript with JSX, only as-style assertions are allowed*"
   ]
  },
  {
   "cell_type": "markdown",
   "metadata": {},
   "source": [
    "The type-checker checks the call\n",
    "Notice that our object actually has more properties than this, but the compiler only checks that at least the ones required are present and match the types required.\n",
    "\n",
    "*don’t have to explicitly say that the object we pass to printLabel implements this interface like we might have to in other languages. Here, it’s only the shape that matters. If the object we pass to the function meets the requirements listed, then it’s allowed.\n",
    "\n"
   ]
  },
  {
   "cell_type": "markdown",
   "metadata": {},
   "source": [
    "We can add types to each of the parameters and then to the function itself to add a return type. TypeScript can figure the return type out by looking at the return statements, so we can also optionally leave this off in many cases.\n",
    "\n",
    "TypeScript, every parameter is assumed to be required by the function. This doesn’t mean that it can’t be given null or undefined, but rather, when the function is called the compiler will check that the user has provided a value for each parameter. The compiler also assumes that these parameters are the only parameters that will be passed to the function. In short, the number of arguments given to a function has to match the number of parameters the function expects.\n",
    "\n",
    "value is undefined. We can get this functionality in TypeScript by adding a ? to the end of parameters we want to be optional.\n",
    "\n",
    " we can also set a value that a parameter will be assigned if the user does not provide one, or if the user passes undefined in its place. These are called default-initialized parameters."
   ]
  },
  {
   "cell_type": "markdown",
   "metadata": {},
   "source": [
    "Default-initialized parameters that come after all required parameters are treated as optional, and just like optional parameters, can be omitted when calling their respective function. This means optional parameters and trailing default parameters will share commonality in their types, so both\n",
    "\n",
    "function buildName(firstName: string, lastName?: string) {\n",
    "    // ...\n",
    "}\n",
    "and\n",
    "\n",
    "function buildName(firstName: string, lastName = \"Smith\") {\n",
    "    // ...\n",
    "}\n",
    "share the same type (firstName: string, lastName?: string) => string. The default value of lastName disappears in the type, only leaving behind the fact that the parameter is optional.\n",
    "\n",
    "Unlike plain optional parameters, default-initialized parameters don’t need to occur after required parameters. If a default-initialized parameter comes before a required parameter, users need to explicitly pass undefined to get the default initialized value. For example, we could write our last example with only a default initializer on firstName:\n",
    "\n",
    "function buildName(firstName = \"Will\", lastName: string) {\n",
    "    return firstName + \" \" + lastName;\n",
    "}\n",
    "\n",
    "let result1 = buildName(\"Bob\");                  // error, too few parameters\n",
    "let result2 = buildName(\"Bob\", \"Adams\", \"Sr.\");  // error, too many parameters\n",
    "let result3 = buildName(\"Bob\", \"Adams\");         // okay and returns \"Bob Adams\"\n",
    "let result4 = buildName(undefined, \"Adams\");     // okay and returns \"Will Adams\""
   ]
  },
  {
   "cell_type": "markdown",
   "metadata": {},
   "source": [
    "can gather these arguments together into a variable\n",
    "\n",
    "*Rest parameters are treated as a boundless number of optional parameters. When passing arguments for a rest parameter, you can use as many as you want; you can even pass none. The compiler will build an array of the arguments passed in with the name given after the ellipsis (...), allowing you to use it in your function.\n",
    "\n"
   ]
  },
  {
   "cell_type": "markdown",
   "metadata": {},
   "source": [
    "Because TypeScript is a structural type system, type parameters only affect the resulting type when consumed as part of the type of a member. For example,\n",
    "\n",
    "interface Empty<T> {\n",
    "}\n",
    "let x: Empty<number>;\n",
    "let y: Empty<string>;\n",
    "\n",
    "x = y;  // okay, y matches structure of x\n"
   ]
  },
  {
   "cell_type": "markdown",
   "metadata": {},
   "source": [
    "For generic types that do not have their type arguments specified, compatibility is checked by specifying any in place of all unspecified type arguments. The resulting types are then checked for compatibility, just as in the non-generic case.\n",
    "\n",
    "Type compatibility in TypeScript is based on structural subtyping. Structural typing is a way of relating types based solely on their members. This is in contrast with nominal typing. \n",
    "\n",
    "TypeScript’s structural type system was designed based on how JavaScript code is typically written. Because JavaScript widely uses anonymous objects like function expressions and object literals, it’s much more natural to represent the kinds of relationships found in JavaScript libraries with a structural type system instead of a nominal one."
   ]
  },
  {
   "cell_type": "markdown",
   "metadata": {},
   "source": [
    " type guard is some expression that performs a runtime check that guarantees the type in some scope. To define a type guard, we simply need to define a function whose return type is a type predicate\n",
    " \n",
    " Any time isFish is called with some variable, TypeScript will narrow that variable to that specific type if the original type is compatible.\n",
    " \n",
    " However, having to define a function to figure out if a type is a primitive is kind of a pain. Luckily, you don’t need to abstract typeof x === \"number\" into its own function because TypeScript will recognize it as a type guard on its own. That means we could just write these checks inline.\n",
    "\n",
    "function padLeft(value: string, padding: string | number) {\n",
    "    if (typeof padding === \"number\") {\n",
    "        return Array(padding + 1).join(\" \") + value;\n",
    "    }\n",
    "    if (typeof padding === \"string\") {\n",
    "        return padding + value;\n",
    "    }\n",
    "    throw new Error(`Expected string or number, got '${padding}'.`);\n",
    "}\n",
    "These typeof type guards are recognized in two different forms: typeof v === \"typename\" and typeof v !== \"typename\", where \"typename\" must be \"number\", \"string\", \"boolean\", or \"symbol\". While TypeScript won’t prohibit comparing to other strings, or switching the two sides of the comparison, the language won’t recognize those forms as type guards.\n",
    "TypeScript will narrow down to:\n",
    "the type of the function’s prototype property if its type is not any\n",
    "the union of types returned by that type’s construct signatures\n"
   ]
  },
  {
   "cell_type": "markdown",
   "metadata": {},
   "source": [
    "Both CommonJS and AMD generally have the concept of an exports object which contains all exports from a module.\n",
    "\n",
    "They also support replacing the exports object with a custom single object. Default exports are meant to act as a replacement for this behavior; however, the two are incompatible. TypeScript supports export = to model the traditional CommonJS and AMD workflow.\n",
    "\n",
    "The export = syntax specifies a single object that is exported from the module. This can be a class, interface, namespace, function, or enum.\n",
    "\n",
    "When importing a module using export =, TypeScript-specific import let = require(\"module\") must be used to import the module."
   ]
  },
  {
   "cell_type": "markdown",
   "metadata": {},
   "source": [
    "In TypeScript, we can use the pattern shown below to implement this and other advanced loading scenarios to directly invoke the module loaders without losing type safety."
   ]
  },
  {
   "cell_type": "markdown",
   "metadata": {},
   "source": [
    "Some of the unique concepts in TypeScript describe the shape of JavaScript objects at the type level. One example that is especially unique to TypeScript is the concept of ‘declaration merging’. \n",
    "\n",
    "In TypeScript, a declaration creates entities in at least one of three groups: namespace, type, or value. Namespace-creating declarations create a namespace, which contains names that are accessed using a dotted notation. Type-creating declarations do just that: they create a type that is visible with the declared shape and bound to the given name. Lastly, value-creating declarations create values that are visible in the output JavaScript."
   ]
  },
  {
   "cell_type": "markdown",
   "metadata": {},
   "source": [
    "Classes in TypeScript create two separate types: the instance type, which defines what members an instance of a class has, and the constructor function type, which defines what members the class constructor function has. The constructor function type is also known as the “static side” type because it includes static members of the class.\n",
    "\n",
    "While you can reference the static side of a class using the typeof keyword, it is sometimes useful or necessary when writing declaration files to use the decomposed class pattern which explicitly separates the instance and static types of class.\n",
    "\n",
    "The trade-offs here are as follows:\n",
    "\n",
    "Standard classes can be inherited from using extends; decomposed classes cannot. This might change in later version of TypeScript if arbitrary extends expressions are allowed.\n",
    "It is possible to add members later (through declaration merging) to the static side of both standard and decomposed classes\n",
    "It is possible to add instance members to decomposed classes, but not standard classes\n",
    "You’ll need to come up with sensible names for more types when writing a decomposed class\n"
   ]
  },
  {
   "cell_type": "markdown",
   "metadata": {},
   "source": [
    "DECORATORS:\n"
   ]
  },
  {
   "cell_type": "markdown",
   "metadata": {
    "collapsed": true
   },
   "source": [
    "*With the introduction of Classes in TypeScript and ES6, there now exist certain scenarios that require additional features to support annotating or modifying classes and class members. \n",
    "\n",
    "*Decorators provide a way to add both annotations and a meta-programming syntax for class declarations and members. \n",
    "\n",
    "*Decorators are a stage 1 proposal for JavaScript \n",
    "\n",
    "*available as an experimental feature of TypeScript."
   ]
  },
  {
   "cell_type": "markdown",
   "metadata": {},
   "source": [
    "We can write a decorator factory in the following fashion:\n",
    "\n",
    "function color(value: string) { // this is the decorator factory\n",
    "    return function (target) { // this is the decorator\n",
    "        // do something with 'target' and 'value'...\n",
    "    }\n",
    "}"
   ]
  },
  {
   "cell_type": "markdown",
   "metadata": {
    "collapsed": true
   },
   "source": [
    "Decorators use the form @expression, where expression must evaluate to a function that will be called at runtime with information about the decorated declaration.\n",
    "\n"
   ]
  },
  {
   "cell_type": "markdown",
   "metadata": {},
   "source": [
    "A Decorator Factory is simply a function that returns the expression that will be called by the decorator at runtime.\n",
    "\n"
   ]
  },
  {
   "cell_type": "markdown",
   "metadata": {},
   "source": [
    "When multiple decorators apply to a single declaration, their evaluation is similar to function composition in mathematics. In this model, when composing functions f and g, the resulting composite (f ∘ g)(x) is equivalent to f(g(x)).\n",
    "\n",
    "As such, the following steps are performed when evaluating multiple decorators on a single declaration in TypeScript:\n",
    "\n",
    "The expressions for each decorator are evaluated top-to-bottom.\n",
    "The results are then called as functions from bottom-to-top."
   ]
  },
  {
   "cell_type": "markdown",
   "metadata": {},
   "source": [
    "function f() {\n",
    "    console.log(\"f(): evaluated\");\n",
    "    return function (target, propertyKey: string, descriptor: PropertyDescriptor) {\n",
    "        console.log(\"f(): called\");\n",
    "    }\n",
    "}\n",
    "\n",
    "function g() {\n",
    "    console.log(\"g(): evaluated\");\n",
    "    return function (target, propertyKey: string, descriptor: PropertyDescriptor) {\n",
    "        console.log(\"g(): called\");\n",
    "    }\n",
    "}\n",
    "\n",
    "class C {\n",
    "    @f()\n",
    "    @g()\n",
    "    method() {}\n",
    "}\n",
    "Which would print this output to the console:\n",
    "\n",
    "f(): evaluated\n",
    "g(): evaluated\n",
    "g(): called\n",
    "f(): called"
   ]
  },
  {
   "cell_type": "markdown",
   "metadata": {},
   "source": [
    "There is a well defined order to how decorators applied to various declarations inside of a class are applied:\n",
    "\n",
    "Parameter Decorators, followed by Method, Accessor, or Property Decorators are applied for each instance member.\n",
    "Parameter Decorators, followed by Method, Accessor, or Property Decorators are applied for each static member.\n",
    "Parameter Decorators are applied for the constructor.\n",
    "Class Decorators are applied for the class.\n"
   ]
  },
  {
   "cell_type": "markdown",
   "metadata": {},
   "source": [
    "The class decorator is applied to the constructor of the class and can be used to observe, modify, or replace a class definition. A class decorator cannot be used in a declaration file, or in any other ambient context (such as on a declare class).\n",
    "\n",
    "The expression for the class decorator will be called as a function at runtime, with the constructor of the decorated class as its only argument.\n",
    "\n",
    "If the class decorator returns a value, it will replace the class declaration with the provided constructor function.\n",
    "\n",
    "NOTE  Should you chose to return a new constructor function, you must take care to maintain the original prototype. The logic that applies decorators at runtime will not do this for you.\n",
    "The following is an example of a class decorator (@sealed) applied to the Greeter class:\n",
    "\n",
    "@sealed\n",
    "class Greeter {\n",
    "    greeting: string;\n",
    "    constructor(message: string) {\n",
    "        this.greeting = message;\n",
    "    }\n",
    "    greet() {\n",
    "        return \"Hello, \" + this.greeting;\n",
    "    }\n",
    "}\n",
    "We can define the @sealed decorator using the following function declaration:\n",
    "\n",
    "function sealed(constructor: Function) {\n",
    "    Object.seal(constructor);\n",
    "    Object.seal(constructor.prototype);\n",
    "}\n",
    "When @sealed is executed, it will seal both the constructor and its prototype."
   ]
  },
  {
   "cell_type": "markdown",
   "metadata": {},
   "source": [
    "The TypeScript compiler will inject design-time type information using the @Reflect.metadata decorator. You could consider it the equivalent of the following TypeScript:"
   ]
  },
  {
   "cell_type": "code",
   "execution_count": null,
   "metadata": {
    "collapsed": true
   },
   "outputs": [],
   "source": []
  }
 ],
 "metadata": {
  "kernelspec": {
   "display_name": "Javascript",
   "language": "",
   "name": "jskernel"
  },
  "language_info": {
   "file_extension": ".js",
   "mimetype": "text/javascript",
   "name": "javascript"
  },
  "widgets": {
   "state": {},
   "version": "1.1.2"
  }
 },
 "nbformat": 4,
 "nbformat_minor": 0
}
