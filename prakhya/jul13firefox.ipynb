{
 "cells": [
  {
   "cell_type": "code",
   "execution_count": 1,
   "metadata": {
    "collapsed": false
   },
   "outputs": [
    {
     "data": {
      "text/plain": [
       "[object Object]"
      ]
     },
     "execution_count": 1,
     "metadata": {},
     "output_type": "execute_result"
    }
   ],
   "source": [
    "jQuery(\"body\").append('<textarea id=\"google\" cols=\"70\" rows=\"20\"></textarea>');\n",
    "\n",
    "//jQuery(\"#svnlabs\").val(jQuery(\"body\").html());"
   ]
  },
  {
   "cell_type": "markdown",
   "metadata": {},
   "source": [
    "‘<div id=”svnlabs”></div>’ or ‘<img src=”svnlabs.jpg” id=”svn_labs”>’"
   ]
  },
  {
   "cell_type": "code",
   "execution_count": 14,
   "metadata": {
    "collapsed": false
   },
   "outputs": [
    {
     "data": {
      "text/plain": [
       "[object Object]"
      ]
     },
     "execution_count": 14,
     "metadata": {},
     "output_type": "execute_result"
    }
   ],
   "source": [
    "all_urls=\"\";\n",
    "$('.reddit').each(function(err, resp, body){\n",
    "    //if(!err && resp.statusCode == 200){\n",
    "all_urls=$(this).attr('title');\n",
    "urls.push(url);\n",
    "})"
   ]
  },
  {
   "cell_type": "code",
   "execution_count": null,
   "metadata": {
    "collapsed": true
   },
   "outputs": [],
   "source": [
    "function (a,b){return new n.fn.init(a,b)}\n",
    "$('.rBookName')\n",
    "[]\n",
    "$('.eBookName')"
   ]
  },
  {
   "cell_type": "code",
   "execution_count": 15,
   "metadata": {
    "collapsed": false
   },
   "outputs": [
    {
     "data": {
      "text/plain": [
       "[object Object]"
      ]
     },
     "execution_count": 15,
     "metadata": {},
     "output_type": "execute_result"
    }
   ],
   "source": [
    "$.ajax({url: \"https://165.106.132.27\", port: 443, success: function(data) {alert(data);}})\n"
   ]
  },
  {
   "cell_type": "code",
   "execution_count": 25,
   "metadata": {
    "collapsed": false
   },
   "outputs": [
    {
     "data": {
      "text/plain": [
       "[object Object]"
      ]
     },
     "execution_count": 25,
     "metadata": {},
     "output_type": "execute_result"
    }
   ],
   "source": [
    "$.ajax({ //my ajax request\n",
    "        url: \"reddit.com/\",\n",
    "        type: \"GET\",\n",
    "        crossDomain: true,\n",
    "        timeout: 2000,\n",
    "        success : function(res){alert(\"good! \" + res);},\n",
    "        error : function(res){console.log(\"fail\"); console.log(res);}\n",
    "});"
   ]
  },
  {
   "cell_type": "markdown",
   "metadata": {},
   "source": [
    "look into errors in TS"
   ]
  },
  {
   "cell_type": "markdown",
   "metadata": {},
   "source": [
    "http://www.ecma-international.org/ecma-262/6.0/index.html"
   ]
  },
  {
   "cell_type": "code",
   "execution_count": null,
   "metadata": {
    "collapsed": true
   },
   "outputs": [],
   "source": []
  }
 ],
 "metadata": {
  "kernelspec": {
   "display_name": "Javascript",
   "language": "",
   "name": "jskernel"
  },
  "language_info": {
   "file_extension": ".js",
   "mimetype": "text/javascript",
   "name": "javascript"
  },
  "widgets": {
   "state": {},
   "version": "1.1.2"
  }
 },
 "nbformat": 4,
 "nbformat_minor": 0
}
