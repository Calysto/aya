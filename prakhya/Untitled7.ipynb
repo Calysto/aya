{
 "cells": [
  {
   "cell_type": "code",
   "execution_count": 1,
   "metadata": {
    "collapsed": false
   },
   "outputs": [
    {
     "name": "stdout",
     "output_type": "stream",
     "text": [
      "Received: 1\n"
     ]
    }
   ],
   "source": [
    "%activity /home/dblank/activities/datastructures01"
   ]
  },
  {
   "cell_type": "markdown",
   "metadata": {},
   "source": [
    "* no loop with hashes \n",
    "* interfaces have no code, only signatures (have to implement)\n",
    "* abstract classes are in between, cannot implement, can only be used to define further classes, some code that can be shared between other implementations and subclasses\n",
    "* Hash table chains use linkedlists, buckets for multiple keys, hashed to that spot then put in the bucket, whereas open does not use buckets, one thing per each spot in memory, so need collision resolution to change space in memory\n",
    "* percentage of filled array locations, hashing high load factor, O(n) because you have to go through everything\n",
    "* if load factor is low, getting close to constant time, nothing in the table, o(1)\n",
    "* perfect hash guaranteed you go to unique spot in array, array is a fixed array, can hash infinitely, a good hash distributes all items being hashed evenly across all elements, perfect hash impossible \n",
    "* if load factor gets too high, increase size of your array\n",
    "\n",
    "\n"
   ]
  },
  {
   "cell_type": "code",
   "execution_count": null,
   "metadata": {
    "collapsed": true
   },
   "outputs": [],
   "source": []
  }
 ],
 "metadata": {
  "kernelspec": {
   "display_name": "Java 9",
   "language": "java",
   "name": "java9"
  },
  "language_info": {
   "file_extension": ".class",
   "mimetype": "application/java-vm",
   "name": "java"
  }
 },
 "nbformat": 4,
 "nbformat_minor": 0
}
