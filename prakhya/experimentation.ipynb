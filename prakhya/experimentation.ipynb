{
 "cells": [
  {
   "cell_type": "code",
   "execution_count": 1,
   "metadata": {
    "collapsed": false
   },
   "outputs": [
    {
     "data": {
      "text/plain": [
       "-200"
      ]
     },
     "execution_count": 1,
     "metadata": {},
     "output_type": "execute_result"
    }
   ],
   "source": [
    "Math.min(0, 150, 30, 20, -8, -200); "
   ]
  },
  {
   "cell_type": "code",
   "execution_count": 4,
   "metadata": {
    "collapsed": false
   },
   "outputs": [],
   "source": []
  },
  {
   "cell_type": "markdown",
   "metadata": {},
   "source": [
    "<!DOCTYPE html>\n",
    "<html>\n",
    "<style>\n",
    "#container {\n",
    "  width: 400px;\n",
    "  height: 400px;\n",
    "  position: relative;\n",
    "  background: yellow;\n",
    "}\n",
    "#animate {\n",
    "  width: 50px;\n",
    "  height: 50px;\n",
    "  position: absolute;\n",
    "  background-color: red;\n",
    "}\n",
    "</style>\n",
    "<body>\n",
    "\n",
    "<p>\n",
    "<button onclick=\"myMove()\">Click Me</button>\n",
    "</p> \n",
    "\n",
    "<div id =\"container\">\n",
    "<div id =\"animate\"></div>\n",
    "</div>\n",
    "\n",
    "<script>\n",
    "function myMove() {\n",
    "  var elem = document.getElementById(\"animate\");   \n",
    "  var pos = 0;\n",
    "  var id = setInterval(frame, 5);\n",
    "  function frame() {\n",
    "    if (pos == 350) {\n",
    "      clearInterval(id);\n",
    "    } else {\n",
    "      pos++; \n",
    "      elem.style.top = pos + 'px'; \n",
    "      elem.style.left = pos + 'px'; \n",
    "    }\n",
    "  }\n",
    "}\n",
    "</script>\n",
    "\n",
    "</body>\n",
    "</html>\n"
   ]
  },
  {
   "cell_type": "code",
   "execution_count": 8,
   "metadata": {
    "collapsed": true
   },
   "outputs": [],
   "source": [
    "function myMove() {\n",
    "    var elem = document.getElementById(\"animate\"); \n",
    "    var pos = 0;\n",
    "    var id = setInterval(frame, 5);\n",
    "    function frame() {\n",
    "        if (pos == 350) {\n",
    "            clearInterval(id);\n",
    "        } else {\n",
    "            pos++; \n",
    "            elem.style.top = pos + 'px'; \n",
    "            elem.style.left = pos + 'px'; \n",
    "        }\n",
    "    }\n",
    "}\n"
   ]
  },
  {
   "cell_type": "code",
   "execution_count": null,
   "metadata": {
    "collapsed": true
   },
   "outputs": [],
   "source": []
  }
 ],
 "metadata": {
  "kernelspec": {
   "display_name": "Javascript",
   "language": "",
   "name": "jskernel"
  },
  "language_info": {
   "file_extension": ".js",
   "mimetype": "text/javascript",
   "name": "javascript"
  }
 },
 "nbformat": 4,
 "nbformat_minor": 0
}
