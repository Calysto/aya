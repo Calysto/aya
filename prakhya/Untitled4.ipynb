{
 "cells": [
  {
   "cell_type": "code",
   "execution_count": 4,
   "metadata": {
    "collapsed": false
   },
   "outputs": [
    {
     "name": "stdout",
     "output_type": "stream",
     "text": [
      "Downloaded 'IMG_4688.jpeg'.\n"
     ]
    }
   ],
   "source": [
    "%download https://athena.brynmawr.edu/jupyter/user/pmalyala/files/IMG_4688.jpeg"
   ]
  },
  {
   "cell_type": "code",
   "execution_count": null,
   "metadata": {
    "collapsed": false
   },
   "outputs": [],
   "source": [
    "/* @pjs preload=\"IMG_4688.jpeg\"; */\n",
    "\n",
    "PImage img;\n",
    "\n",
    "void setup() {\n",
    "    img = loadImage(\"IMG_4688.jpeg\");\n",
    "    img.resize(int(img.width/5), int(img.height/5));\n",
    "    size(img.width, img.height);\n",
    "    img.loadPixels();\n",
    "}\n",
    "\n",
    "void draw() {\n",
    "    image(img, 0, 0);\n",
    "    noLoop();\n",
    "}"
   ]
  },
  {
   "cell_type": "code",
   "execution_count": null,
   "metadata": {
    "collapsed": true
   },
   "outputs": [],
   "source": []
  }
 ],
 "metadata": {
  "kernelspec": {
   "display_name": "Calysto Processing",
   "language": "java",
   "name": "calysto_processing"
  },
  "language_info": {
   "codemirror_mode": {
    "name": "text/x-java",
    "version": 2
   },
   "file_extension": ".java",
   "mimetype": "text/x-java",
   "name": "java"
  }
 },
 "nbformat": 4,
 "nbformat_minor": 0
}
