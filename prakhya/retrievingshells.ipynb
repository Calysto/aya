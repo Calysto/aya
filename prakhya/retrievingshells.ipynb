{
 "cells": [
  {
   "cell_type": "code",
   "execution_count": 1,
   "metadata": {
    "collapsed": false
   },
   "outputs": [
    {
     "name": "stdout",
     "output_type": "stream",
     "text": [
      "Explaining TypeScript.ipynb:    \" Any time isFish is called with some variable, TypeScript will narrow that variable to that specific type if the original type is compatible.\\n\",\n",
      "Explaining TypeScript.ipynb:    \"TypeScript will narrow down to:\\n\",\n",
      "GRAPHS.ipynb:    \"arrows are actions - command\\n\",\n",
      "GRAPHS.ipynb:    \"path: series of arrows followed to get to particular location\\n\",\n",
      "jul5-journal.ipynb:    \"TypeScript supports arrow function expressions, a new feature planned for ECMAScript 6. Arrow function expressions are a compact form of function expressions that omit the function keyword and have lexical scoping of this.\\n\",\n",
      "JULY19.ipynb:    \"//fat arrow functions\\n\",\n",
      "Untitled12.ipynb:    \"! grep \\\"arrow\\\" *.ipynb\"\n",
      "/home/pmalyala\n",
      "Untitled12.ipynb:    \"! grep \\\"arrow\\\" *.ipynb\"\n"
     ]
    }
   ],
   "source": [
    "! grep \"arrow\" *.ipynb"
   ]
  },
  {
   "cell_type": "code",
   "execution_count": null,
   "metadata": {
    "collapsed": true
   },
   "outputs": [],
   "source": []
  }
 ],
 "metadata": {
  "kernelspec": {
   "display_name": "Java 9",
   "language": "java",
   "name": "java9"
  },
  "language_info": {
   "file_extension": ".class",
   "mimetype": "application/java-vm",
   "name": "java"
  },
  "widgets": {
   "state": {},
   "version": "1.1.2"
  }
 },
 "nbformat": 4,
 "nbformat_minor": 0
}
