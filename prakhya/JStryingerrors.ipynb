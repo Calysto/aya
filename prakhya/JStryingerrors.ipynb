{
 "cells": [
  {
   "cell_type": "code",
   "execution_count": null,
   "metadata": {
    "collapsed": true
   },
   "outputs": [],
   "source": [
    "function myFunction() {\n",
    "    var message, x;\n",
    "    message = document.getElementById(\"message\");\n",
    "    message.innerHTML = \"\";\n",
    "    x = document.getElementById(\"demo\").value;\n",
    "    try { \n",
    "        if(x == \"\") throw \"is empty\";\n",
    "        if(isNaN(x)) throw \"is not a number\";\n",
    "        x = Number(x);\n",
    "        if(x > 10) throw \"is too high\";\n",
    "        if(x < 5) throw \"is too low\";\n",
    "    }\n",
    "    catch(err) {\n",
    "        message.innerHTML = \"Error: \" + err + \".\";\n",
    "    }\n",
    "    finally {\n",
    "        document.getElementById(\"demo\").value = \"\";\n",
    "    }\n",
    "}"
   ]
  },
  {
   "cell_type": "code",
   "execution_count": null,
   "metadata": {
    "collapsed": true
   },
   "outputs": [],
   "source": []
  }
 ],
 "metadata": {
  "kernelspec": {
   "display_name": "Javascript",
   "language": "",
   "name": "jskernel"
  },
  "widgets": {
   "state": {},
   "version": "1.1.2"
  }
 },
 "nbformat": 4,
 "nbformat_minor": 0
}
