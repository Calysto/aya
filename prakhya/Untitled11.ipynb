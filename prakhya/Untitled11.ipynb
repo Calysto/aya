{
 "cells": [
  {
   "cell_type": "code",
   "execution_count": 1,
   "metadata": {
    "collapsed": false
   },
   "outputs": [
    {
     "name": "stdout",
     "output_type": "stream",
     "text": [
      "7.0710678118654755\n"
     ]
    }
   ],
   "source": [
    "class Point {\n",
    "    constructor(x, y) {\n",
    "        this.x = x;\n",
    "        this.y = y;\n",
    "    }\n",
    "\n",
    "    static distance(a, b) {\n",
    "        const dx = a.x - b.x;\n",
    "        const dy = a.y - b.y;\n",
    "\n",
    "        return Math.sqrt(dx*dx + dy*dy);\n",
    "    }\n",
    "}\n",
    "\n",
    "const p1 = new Point(5, 5);\n",
    "const p2 = new Point(10, 10);\n",
    "\n",
    "console.log(Point.distance(p1, p2));"
   ]
  },
  {
   "cell_type": "code",
   "execution_count": null,
   "metadata": {
    "collapsed": true
   },
   "outputs": [],
   "source": []
  }
 ],
 "metadata": {
  "kernelspec": {
   "display_name": "Javascript",
   "language": "",
   "name": "jskernel"
  },
  "language_info": {
   "file_extension": ".js",
   "mimetype": "text/javascript",
   "name": "javascript"
  },
  "widgets": {
   "state": {},
   "version": "1.1.2"
  }
 },
 "nbformat": 4,
 "nbformat_minor": 0
}
