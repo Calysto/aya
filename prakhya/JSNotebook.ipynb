{
 "cells": [
  {
   "cell_type": "code",
   "execution_count": 3,
   "metadata": {
    "collapsed": false
   },
   "outputs": [
    {
     "name": "stdout",
     "output_type": "stream",
     "text": [
      "[object HTMLCanvasElement]\n"
     ]
    }
   ],
   "source": []
  },
  {
   "cell_type": "code",
   "execution_count": 4,
   "metadata": {
    "collapsed": false
   },
   "outputs": [
    {
     "name": "stdout",
     "output_type": "stream",
     "text": [
      "[object HTMLCanvasElement]\n"
     ]
    }
   ],
   "source": [
    "var canvas = document.createElement('canvas');\n",
    "\n",
    "canvas.id = \"mycanvas\";\n",
    "canvas.width = 1224;\n",
    "canvas.height = 500;\n",
    "canvas.style.zIndex = 8;\n",
    "canvas.style.position = \"absolute\";\n",
    "canvas.style.border = \"1px solid\";\n",
    "\n",
    "//display\n",
    "var body = document.getElementsByTagName(\"body\")[0];\n",
    "body.appendChild(canvas);\n",
    "\n",
    "cursorLayer = document.getElementById(\"mycanvas\");\n",
    "//print\n",
    "console.log(cursorLayer);"
   ]
  },
  {
   "cell_type": "code",
   "execution_count": 5,
   "metadata": {
    "collapsed": false
   },
   "outputs": [
    {
     "name": "stdout",
     "output_type": "stream",
     "text": [
      "[object HTMLCanvasElement]\n"
     ]
    }
   ],
   "source": [
    "var canvas = document.createElement('canvas');\n",
    "\n",
    "canvas.id = \"mycanvas\";\n",
    "canvas.width = 1224;\n",
    "canvas.height = 500;\n",
    "canvas.style.zIndex = 8;\n",
    "canvas.style.color = \"#FF0000\";\n",
    "//canvas.style.color = (0,0,150);\n",
    "canvas.style.position = \"absolute\";\n",
    "canvas.style.border = \"1px solid\";\n",
    "\n",
    "//display\n",
    "var body = document.getElementsByTagName(\"body\")[0];\n",
    "// var c = document.getElementById(\"myCanvas\");\n",
    "// var ctx = c.getContext(\"2d\");\n",
    "// ctx.fillStyle = \"#FF0000\";\n",
    "// ctx.fillRect(0,0,150,75);\n",
    "body.appendChild(canvas);\n",
    "\n",
    "cursorLayer = document.getElementById(\"mycanvas\");\n",
    "//print\n",
    "console.log(cursorLayer);"
   ]
  },
  {
   "cell_type": "markdown",
   "metadata": {},
   "source": [
    "<canvas id=\"myCanvas\" width=\"200\" height=\"100\" style=\"border:1px solid #000000;\">\n",
    "</canvas>"
   ]
  },
  {
   "cell_type": "code",
   "execution_count": null,
   "metadata": {
    "collapsed": true
   },
   "outputs": [],
   "source": []
  }
 ],
 "metadata": {
  "kernelspec": {
   "display_name": "Javascript",
   "language": "",
   "name": "jskernel"
  },
  "language_info": {
   "file_extension": ".js",
   "mimetype": "text/javascript",
   "name": "javascript"
  }
 },
 "nbformat": 4,
 "nbformat_minor": 0
}
