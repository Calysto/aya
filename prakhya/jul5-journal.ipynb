{
 "cells": [
  {
   "cell_type": "markdown",
   "metadata": {},
   "source": [
    "pacman code in jun30 journal, but ball code still exists\n",
    "\n",
    "figure out animation in js\n",
    "\n",
    "http://link.springer.com/chapter/10.1007/978-1-4302-6790-4_5\n",
    "\n",
    " transpile it into javascript... So there is currently no way to use typescript directly in the browser. Barring the use of some esoteric plugin/extension, maybe. could be compiled into (pseudo) assembly (webAssembly)\n",
    " \n",
    " https://www.quora.com/Whats-the-best-way-to-use-TypeScript-in-the-browser\n",
    " \n",
    " from 2013: https://www.devbridge.com/articles/say-hello-to-typescript/\n",
    " \n",
    " two classes: Person and Main. The first one has a constructor with an optional name parameter and a public method getName(). The other class Main uses a Person class and initiates two instances of it. Pay attention to the static Person.defaultName member, which is used if Person’s constructor is named without a name parameter\n",
    " \n",
    " the module pattern-> closures hide names/hold private data, the class pattern uses prototype chains to implement many variations on object-oriented inheritance mechanisms.\n",
    "\n",
    "Namespaces are introduced using the module keyword. By default, the internal of module is not made visible outside of the module. To make it visible we have to use the export keyword.\n",
    "\n",
    "TypeScript supports arrow function expressions, a new feature planned for ECMAScript 6. Arrow function expressions are a compact form of function expressions that omit the function keyword and have lexical scoping of this.\n",
    "\n",
    "can specify a default value for the constructor or method members\n",
    "\n",
    "get” and “set” in front of the methods. TypeScript Getters and Setters are called TypeScript Accessor.\n",
    "\n",
    "You should use a super keyword in the constructor of a derived class to pass parameters to the base class constructor. Super calls for passing parameters are not allowed outside the constructor, though you can use super keyword to invoke methods of the base class from the derived class.\n",
    "\n",
    "Types place static constraints on program entities such as functions, variables, and properties so that compilers and development tools can offer better verification and assistance during software development.\n",
    "\n",
    "To access stuff in a remote TypeScript file, we first need to add a reference to it. Second, to add an import statement to import internal or external modules and create local aliases by which they may be referenced:\n",
    "\n",
    "https://medium.com/@alexewerlof/when-should-i-use-typescript-311cb5fe801b#.voefjz9ud\n",
    "\n",
    "http://www.developer.com/lang/top-10-things-to-know-about-typescript.html\n",
    "TypeScript code consists of regular JavaScript code + specific keywords/constructs specific to TypeScript. However, when you compile the TypeScript code it is converted into plain JavaScript. That means the resultant JavaScript can be used with any browser that supports JavaScript.\n",
    "\n",
    "TypeScript allows you to declare variables with a specific data type. The types can be classified as primitive or object types. The primitive types include number, bool and string whereas object types include modules, classes and interfaces. The following piece of code shows how this can be done.\n",
    "\n",
    "https://books.google.com/books?id=BeJbBAAAQBAJ&pg=PA107&lpg=PA107&dq=typescript+browser&source=bl&ots=_81fEbATd5&sig=A0qiPzDG18i3Kn8zD8_kYVNgyTk&hl=en&sa=X&ved=0ahUKEwi03rGGz9zNAhXG0h4KHd-iBNI4HhDoAQgvMAM#v=onepage&q=typescript%20browser&f=false\n",
    "\n",
    "https://basarat.gitbooks.io/typescript/content/docs/types/migrating.html\n",
    "\n",
    "Types increase agility when refactoring. Its better for the compiler to catch errors than to have things fail at runtime.\n",
    "Types are one of the best forms of documentation you can have. The function signature is a theorem and the function body is the proof.\n",
    " provides compile time type safety \n",
    " types are completely optional\n",
    " structural types: don't waste time with unecessary language semantics/formalities\n",
    " TS tries- major difference (tries to compile)\n",
    " \n",
    "declaration\n",
    "* a sliding scale of how much or how little effort in your declarations\n",
    "* the more effort you put the more type safety + code intelligence you get. \n",
    "* Note that definitions for most of the popular JavaScript libraries have already been written for you by the DefinitelyTyped community so for most purposes either\n",
    "* The definition file already exists\n",
    "* you have a list of reviewed files\n"
   ]
  },
  {
   "cell_type": "markdown",
   "metadata": {},
   "source": [
    "<canvas id=\"myCanvas\" width=\"300\" height=\"150\" style=\"border:1px solid #d3d3d3;\">\n",
    "Your browser does not support the HTML5 canvas tag.</canvas>"
   ]
  },
  {
   "cell_type": "code",
   "execution_count": 2,
   "metadata": {
    "collapsed": false
   },
   "outputs": [
    {
     "ename": "ReferenceError",
     "evalue": "ctx is not defined",
     "output_type": "error",
     "traceback": [
      "ReferenceError: ctx is not defined\n    at Object.ball.draw (eval at <anonymous> (https://athena.brynmawr.edu/jupyter/user/pmalyala/kernelspecs/jskernel/kernel.js?v=20160613104332:53:22), <anonymous>:10:5)\n    at eval (eval at <anonymous> (https://athena.brynmawr.edu/jupyter/user/pmalyala/kernelspecs/jskernel/kernel.js?v=20160613104332:53:22), <anonymous>:18:6)\n    at execute (https://athena.brynmawr.edu/jupyter/user/pmalyala/kernelspecs/jskernel/kernel.js?v=20160613104332:53:17)\n    at CodeCell.execute (https://athena.brynmawr.edu/jupyter/user/pmalyala/static/notebook/js/main.min.js?v=1c2abb797e9945d6ce7d58ae051fe985:21675:40)\n    at Notebook.execute_cell_and_select_below (https://athena.brynmawr.edu/jupyter/user/pmalyala/static/notebook/js/main.min.js?v=1c2abb797e9945d6ce7d58ae051fe985:27190:18)\n    at _actions.run-cell-and-select-next.handler (https://athena.brynmawr.edu/jupyter/user/pmalyala/static/notebook/js/main.min.js?v=1c2abb797e9945d6ce7d58ae051fe985:30167:30)\n    at Object.final_actions.(anonymous function).handler (https://athena.brynmawr.edu/jupyter/user/pmalyala/static/notebook/js/main.min.js?v=1c2abb797e9945d6ce7d58ae051fe985:30673:25)\n    at ActionHandler.call (https://athena.brynmawr.edu/jupyter/user/pmalyala/static/notebook/js/main.min.js?v=1c2abb797e9945d6ce7d58ae051fe985:30775:36)\n    at ShortcutManager.call_handler (https://athena.brynmawr.edu/jupyter/user/pmalyala/static/notebook/js/main.min.js?v=1c2abb797e9945d6ce7d58ae051fe985:19785:33)\n    at KeyboardManager.handle_keydown (https://athena.brynmawr.edu/jupyter/user/pmalyala/static/notebook/js/main.min.js?v=1c2abb797e9945d6ce7d58ae051fe985:30954:40)"
     ]
    }
   ],
   "source": [
    "var cx = document.querySelector(\"canvas\").getContext(\"2d\");\n",
    "\n",
    "\n",
    "var ball = {\n",
    "  x: 100,\n",
    "  y: 100,\n",
    "  radius: 25,\n",
    "  color: 'blue',\n",
    "  draw: function() {\n",
    "    ctx.beginPath();\n",
    "    ctx.arc(this.x, this.y, this.radius, 0, Math.PI*2, true);\n",
    "    ctx.closePath();\n",
    "    ctx.fillStyle = this.color;\n",
    "    ctx.fill();\n",
    "  }\n",
    "};\n",
    "\n",
    "ball.draw();"
   ]
  },
  {
   "cell_type": "code",
   "execution_count": null,
   "metadata": {
    "collapsed": true
   },
   "outputs": [],
   "source": []
  }
 ],
 "metadata": {
  "kernelspec": {
   "display_name": "Javascript",
   "language": "",
   "name": "jskernel"
  },
  "language_info": {
   "file_extension": ".js",
   "mimetype": "text/javascript",
   "name": "javascript"
  },
  "widgets": {
   "state": {},
   "version": "1.1.2"
  }
 },
 "nbformat": 4,
 "nbformat_minor": 0
}
