{
 "cells": [
  {
   "cell_type": "code",
   "execution_count": 6,
   "metadata": {
    "collapsed": false
   },
   "outputs": [
    {
     "ename": "SyntaxError",
     "evalue": "Unexpected identifier",
     "output_type": "error",
     "traceback": [
      "SyntaxError: Unexpected identifier\n    at execute (https://athena.brynmawr.edu/jupyter/user/pmalyala/kernelspecs/jskernel/kernel.js?v=20160613104332:53:22)\n    at CodeCell.execute (https://athena.brynmawr.edu/jupyter/user/pmalyala/static/notebook/js/main.min.js?v=1c2abb797e9945d6ce7d58ae051fe985:21675:40)\n    at Notebook.execute_cell_and_select_below (https://athena.brynmawr.edu/jupyter/user/pmalyala/static/notebook/js/main.min.js?v=1c2abb797e9945d6ce7d58ae051fe985:27190:18)\n    at _actions.run-cell-and-select-next.handler (https://athena.brynmawr.edu/jupyter/user/pmalyala/static/notebook/js/main.min.js?v=1c2abb797e9945d6ce7d58ae051fe985:30167:30)\n    at Object.final_actions.(anonymous function).handler (https://athena.brynmawr.edu/jupyter/user/pmalyala/static/notebook/js/main.min.js?v=1c2abb797e9945d6ce7d58ae051fe985:30673:25)\n    at ActionHandler.call (https://athena.brynmawr.edu/jupyter/user/pmalyala/static/notebook/js/main.min.js?v=1c2abb797e9945d6ce7d58ae051fe985:30775:36)\n    at ShortcutManager.call_handler (https://athena.brynmawr.edu/jupyter/user/pmalyala/static/notebook/js/main.min.js?v=1c2abb797e9945d6ce7d58ae051fe985:19785:33)\n    at KeyboardManager.handle_keydown (https://athena.brynmawr.edu/jupyter/user/pmalyala/static/notebook/js/main.min.js?v=1c2abb797e9945d6ce7d58ae051fe985:30954:40)\n    at HTMLDocument.<anonymous> (https://athena.brynmawr.edu/jupyter/user/pmalyala/static/notebook/js/main.min.js?v=1c2abb797e9945d6ce7d58ae051fe985:30920:25)\n    at HTMLDocument.x.event.dispatch (https://athena.brynmawr.edu/jupyter/user/pmalyala/static/notebook/js/main.min.js?v=1c2abb797e9945d6ce7d58ae051fe985:88:10006)"
     ]
    }
   ],
   "source": [
    "class Person {                                          // The 'class' keyword\n",
    "    constructor(name string, age) {                            // Constructors\n",
    "        this.name = name;\n",
    "        this.age = age;\n",
    "    }\n",
    "}\n",
    "\n",
    "class Developer extends Person {                        // The 'extends' keyword\n",
    "    constructor(name, age, ...languages) {              // Rest parameters\n",
    "        super(name, age);                               // Super calls\n",
    "        this.languages = [...languages];                // The spread operator\n",
    "    }\n",
    "    printLanguages() {                                  // Short method definitions\n",
    "        for(let lang of this.languages) {               // The for..of loop\n",
    "            console.log(lang);\n",
    "        }\n",
    "    }\n",
    "}\n",
    "\n",
    "me = new Developer(\"James\", 23, \"ES5\", \"ES6\");     // Block scoping"
   ]
  },
  {
   "cell_type": "code",
   "execution_count": 2,
   "metadata": {
    "collapsed": false
   },
   "outputs": [
    {
     "data": {
      "text/plain": [
       "James"
      ]
     },
     "execution_count": 2,
     "metadata": {},
     "output_type": "execute_result"
    }
   ],
   "source": [
    "me.name"
   ]
  },
  {
   "cell_type": "code",
   "execution_count": null,
   "metadata": {
    "collapsed": true
   },
   "outputs": [],
   "source": [
    "//what doesn't work\n",
    "//name followed by type (:)\n",
    "//name:string as a property under class"
   ]
  },
  {
   "cell_type": "code",
   "execution_count": null,
   "metadata": {
    "collapsed": true
   },
   "outputs": [],
   "source": [
    "//javascript in ECMA6 with chrome's extensions \n",
    "//js becoming ts\n",
    "//give better error messages"
   ]
  },
  {
   "cell_type": "code",
   "execution_count": 7,
   "metadata": {
    "collapsed": true
   },
   "outputs": [],
   "source": [
    "//what can TS/JS do? is it easier than processing? \n",
    "//how can I work with the other prjs using TS?\n"
   ]
  },
  {
   "cell_type": "markdown",
   "metadata": {},
   "source": [
    "Keep trying to figure out what can be done in JS and it's daughter languages. Make notebooks and be able to work with other to implement them to other prj's.\n"
   ]
  },
  {
   "cell_type": "markdown",
   "metadata": {},
   "source": [
    "IT MOVED. Have to match the variables, so that the 2D matches the 2D functions and there is another reference function for the others"
   ]
  },
  {
   "cell_type": "markdown",
   "metadata": {},
   "source": [
    "var cx = document.querySelector(\"canvas\").getContext(\"2d\");\n",
    "var canvas = document.querySelector(\"canvas\");\n",
    "var raf\n",
    "\n",
    " ball = {\n",
    "  x: 100,\n",
    "  y: 100,\n",
    "  vx: 5,\n",
    "  vy: 2,\n",
    "  radius: 16,\n",
    "  color: 'red',\n",
    "  draw: function() {\n",
    "    cx.beginPath();\n",
    "    cx.arc(this.x, this.y, this.radius, 0, Math.PI*2, true);\n",
    "    cx.closePath();\n",
    "    cx.fillStyle = this.color;\n",
    "    cx.fill();\n",
    "  }\n",
    "};\n",
    "\n",
    "function draw() {\n",
    "  cx.clearRect(0,0, canvas.width, canvas.height);\n",
    "  ball.draw();\n",
    "  ball.x += ball.vx;\n",
    "  ball.y += ball.vy;\n",
    "  raf = window.requestAnimationFrame(draw);\n",
    "}\n",
    "\n",
    "canvas.addEventListener('mouseover', function(e){\n",
    "  raf = window.requestAnimationFrame(draw);\n",
    "});\n",
    "\n",
    "canvas.addEventListener(\"mouseout\",function(e){\n",
    "  window.cancelAnimationFrame(raf);\n",
    "});\n",
    "\n",
    "\n",
    "ball.draw();"
   ]
  },
  {
   "cell_type": "code",
   "execution_count": null,
   "metadata": {
    "collapsed": true
   },
   "outputs": [],
   "source": []
  }
 ],
 "metadata": {
  "kernelspec": {
   "display_name": "Javascript",
   "language": "",
   "name": "jskernel"
  },
  "language_info": {
   "file_extension": ".js",
   "mimetype": "text/javascript",
   "name": "javascript"
  },
  "widgets": {
   "state": {},
   "version": "1.1.2"
  }
 },
 "nbformat": 4,
 "nbformat_minor": 0
}
