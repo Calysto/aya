{
 "cells": [
  {
   "cell_type": "markdown",
   "metadata": {},
   "source": [
    "<canvas id=\"myCanvas\" width=\"300\" height=\"150\" style=\"border:1px solid #d3d3d3;\">\n",
    "Your browser does not support the HTML5 canvas tag.</canvas>"
   ]
  },
  {
   "cell_type": "code",
   "execution_count": null,
   "metadata": {
    "collapsed": false
   },
   "outputs": [],
   "source": [
    "var cx = document.querySelector(\"canvas\").getContext(\"2d\");\n",
    "var canvas = document.querySelector(\"canvas\");\n",
    "var raf;\n",
    "var running = false;\n",
    "\n",
    " ball = {\n",
    "  x: 100,\n",
    "  y: 100,\n",
    "  vx: 5,\n",
    "  vy: 1,\n",
    "  radius: 16,\n",
    "  color: 'blue',\n",
    "  draw: function() {\n",
    "    cx.beginPath();\n",
    "    cx.arc(this.x, this.y, this.radius, 0, Math.PI*2, true);\n",
    "    cx.closePath();\n",
    "    cx.fillStyle = this.color;\n",
    "    cx.fill();\n",
    "  }\n",
    "};\n",
    "\n",
    "function clear() {\n",
    "  cx.fillStyle = 'rgba(255,255,255,0.3)';\n",
    "  cx.fillRect(0,0,canvas.width,canvas.height);\n",
    "}\n",
    "\n",
    "function draw(timestamp) {\n",
    "  console.log(\"hi\");\n",
    "  clear();\n",
    "  ball.draw();\n",
    "  ball.x += ball.vx;\n",
    "  ball.y += ball.vy;\n",
    "    \n",
    "  if (ball.y + ball.vy > canvas.height || ball.y + ball.vy < 0) {\n",
    "    ball.vy = -ball.vy;\n",
    "  }\n",
    "  if (ball.x + ball.vx > canvas.width || ball.x + ball.vx < 0) {\n",
    "    ball.vx = -ball.vx;\n",
    "  }\n",
    "  \n",
    "  raf = window.requestAnimationFrame(draw);\n",
    "}\n",
    "\n",
    "canvas.addEventListener('mouseover', function(e){\n",
    "    if (!running) {\n",
    "      raf = window.requestAnimationFrame(draw);\n",
    "      running = true;\n",
    "    }\n",
    "});\n",
    "\n",
    "canvas.addEventListener(\"mouseout\",function(e){\n",
    "  window.cancelAnimationFrame(raf);\n",
    "  running = false;\n",
    "});\n",
    "\n",
    "//ball.draw();\n",
    "//raf = window.requestAnimationFrame(draw);\n"
   ]
  },
  {
   "cell_type": "code",
   "execution_count": 9,
   "metadata": {
    "collapsed": false
   },
   "outputs": [
    {
     "data": {
      "text/plain": [
       "100"
      ]
     },
     "execution_count": 9,
     "metadata": {},
     "output_type": "execute_result"
    }
   ],
   "source": [
    "ball.x"
   ]
  },
  {
   "cell_type": "code",
   "execution_count": 10,
   "metadata": {
    "collapsed": false
   },
   "outputs": [
    {
     "data": {
      "text/plain": [
       "16"
      ]
     },
     "execution_count": 10,
     "metadata": {},
     "output_type": "execute_result"
    }
   ],
   "source": [
    "ball.radius"
   ]
  },
  {
   "cell_type": "code",
   "execution_count": 11,
   "metadata": {
    "collapsed": false
   },
   "outputs": [
    {
     "name": "stdout",
     "output_type": "stream",
     "text": [
      "hi\n"
     ]
    }
   ],
   "source": [
    "console.log(\"hi\");\n"
   ]
  },
  {
   "cell_type": "code",
   "execution_count": null,
   "metadata": {
    "collapsed": true
   },
   "outputs": [],
   "source": [
    "//write and draw and setup, replicating what procesing does\n",
    "//event mouseclick isn't name of event listening for"
   ]
  }
 ],
 "metadata": {
  "kernelspec": {
   "display_name": "Javascript",
   "language": "",
   "name": "jskernel"
  },
  "language_info": {
   "file_extension": ".js",
   "mimetype": "text/javascript",
   "name": "javascript"
  },
  "widgets": {
   "state": {},
   "version": "1.1.2"
  }
 },
 "nbformat": 4,
 "nbformat_minor": 0
}
