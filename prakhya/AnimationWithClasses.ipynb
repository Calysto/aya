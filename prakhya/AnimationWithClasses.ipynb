{
 "cells": [
  {
   "cell_type": "markdown",
   "metadata": {},
   "source": [
    "* Not introducing a new object oriented inheritance model\n",
    "* Syntax to create objects that deal with inheritance\n",
    "https://developer.mozilla.org/en-US/docs/Web/JavaScript/Reference/Classes"
   ]
  },
  {
   "cell_type": "markdown",
   "metadata": {},
   "source": [
    "<canvas id=\"myCanvas\" width=\"300\" height=\"150\" style=\"border:1px solid #d3d3d3;\">\n",
    "Your browser does not support the HTML5 canvas tag.</canvas>"
   ]
  },
  {
   "cell_type": "code",
   "execution_count": 4,
   "metadata": {
    "collapsed": false
   },
   "outputs": [],
   "source": [
    "var cx = document.querySelector(\"canvas\").getContext(\"2d\");\n",
    "var canvas = document.querySelector(\"canvas\");\n",
    "var td;\n",
    "var running = true;\n",
    "\n",
    "class Ball {\n",
    "  constructor(x, y, vx, vy, radius, color) {\n",
    "    this.x = x;\n",
    "    this.y = y;\n",
    "    this.vx = vx;\n",
    "    this.vy = vy;\n",
    "    this.radius = radius;\n",
    "    this.color = color;\n",
    "  }\n",
    "  \n",
    "  draw() {\n",
    "    cx.beginPath();\n",
    "    cx.arc(this.x, this.y, this.radius, 0, Math.PI*2, true);\n",
    "    cx.closePath();\n",
    "    cx.fillStyle = this.color;\n",
    "    cx.fill();\n",
    "    this.x += this.vx;\n",
    "    this.y += this.vy;\n",
    "    \n",
    "  if (this.y + this.vy > canvas.height || this.y + this.vy < 0) {\n",
    "    this.vy = -this.vy;\n",
    "  }\n",
    "  if (this.x + this.vx > canvas.width || this.x + this.vx < 0) {\n",
    "    this.vx = -this.vx;\n",
    "  }\n",
    "  }\n",
    "};\n",
    "\n",
    "\n",
    "function clear() {\n",
    "  cx.fillStyle = 'rgba(255,255,255,0.3)';\n",
    "  cx.fillRect(0,0,canvas.width,canvas.height);\n",
    "}\n",
    "\n",
    "function draw(timestamp) {\n",
    "  clear();\n",
    "  ball.draw();\n",
    "  ball1.draw();\n",
    "  \n",
    "  td = window.requestAnimationFrame(draw);\n",
    "}\n",
    "\n",
    "ball = new Ball(40, 80, 5, 2, 16, 'red');\n",
    "ball1 = new Ball(40, 60, 4, 1, 25, 'yellow');\n",
    "\n",
    "canvas.addEventListener('mouseover', function(e){\n",
    "    if (!running) {\n",
    "      td = window.requestAnimationFrame(draw);\n",
    "      running = true;\n",
    "    }\n",
    "});\n",
    "\n",
    "canvas.addEventListener(\"mouseout\",function(e){\n",
    "  window.cancelAnimationFrame(td);\n",
    "  running = false;\n",
    "});\n",
    "\n",
    "//ball.draw();"
   ]
  },
  {
   "cell_type": "markdown",
   "metadata": {},
   "source": [
    "var cx = document.querySelector(\"canvas\").getContext(\"2d\");\n",
    "var canvas = document.querySelector(\"canvas\");\n",
    "var raf;\n",
    "var running = false;\n",
    "\n",
    " ball = {\n",
    "  x: 100,\n",
    "  y: 100,\n",
    "  vx: 5,\n",
    "  vy: 1,\n",
    "  radius: 16,\n",
    "  color: 'blue',\n",
    "  draw: function() {\n",
    "    cx.beginPath();\n",
    "    cx.arc(this.x, this.y, this.radius, 0, Math.PI*2, true);\n",
    "    cx.closePath();\n",
    "    cx.fillStyle = this.color;\n",
    "    cx.fill();\n",
    "  }\n",
    "};\n",
    "\n",
    "function clear() {\n",
    "  cx.fillStyle = 'rgba(255,255,255,0.3)';\n",
    "  cx.fillRect(0,0,canvas.width,canvas.height);\n",
    "}\n",
    "\n",
    "function draw(timestamp) {\n",
    "  console.log(\"hi\");\n",
    "  clear();\n",
    "  ball.draw();\n",
    "  ball.x += ball.vx;\n",
    "  ball.y += ball.vy;\n",
    "    \n",
    "  if (ball.y + ball.vy > canvas.height || ball.y + ball.vy < 0) {\n",
    "    ball.vy = -ball.vy;\n",
    "  }\n",
    "  if (ball.x + ball.vx > canvas.width || ball.x + ball.vx < 0) {\n",
    "    ball.vx = -ball.vx;\n",
    "  }\n",
    "  \n",
    "  raf = window.requestAnimationFrame(draw);\n",
    "}\n",
    "\n",
    "canvas.addEventListener('mouseover', function(e){\n",
    "    if (!running) {\n",
    "      raf = window.requestAnimationFrame(draw);\n",
    "      running = true;\n",
    "    }\n",
    "});\n",
    "\n",
    "canvas.addEventListener(\"mouseout\",function(e){\n",
    "  window.cancelAnimationFrame(raf);\n",
    "  running = false;\n",
    "});\n",
    "\n",
    "//ball.draw();\n",
    "//raf = window.requestAnimationFrame(draw);\n"
   ]
  },
  {
   "cell_type": "code",
   "execution_count": 4,
   "metadata": {
    "collapsed": false
   },
   "outputs": [
    {
     "ename": "ReferenceError",
     "evalue": "error is not defined",
     "output_type": "error",
     "traceback": [
      "ReferenceError: error is not defined\n    at eval (eval at <anonymous> (https://athena.brynmawr.edu/jupyter/user/pmalyala/kernelspecs/jskernel/kernel.js?v=20160713142637:53:22), <anonymous>:1:1)\n    at execute (https://athena.brynmawr.edu/jupyter/user/pmalyala/kernelspecs/jskernel/kernel.js?v=20160713142637:53:17)\n    at CodeCell.execute (https://athena.brynmawr.edu/jupyter/user/pmalyala/static/notebook/js/main.min.js?v=1c2abb797e9945d6ce7d58ae051fe985:21675:40)\n    at Notebook.execute_cell_and_select_below (https://athena.brynmawr.edu/jupyter/user/pmalyala/static/notebook/js/main.min.js?v=1c2abb797e9945d6ce7d58ae051fe985:27190:18)\n    at _actions.run-cell-and-select-next.handler (https://athena.brynmawr.edu/jupyter/user/pmalyala/static/notebook/js/main.min.js?v=1c2abb797e9945d6ce7d58ae051fe985:30167:30)\n    at Object.final_actions.(anonymous function).handler (https://athena.brynmawr.edu/jupyter/user/pmalyala/static/notebook/js/main.min.js?v=1c2abb797e9945d6ce7d58ae051fe985:30673:25)\n    at ActionHandler.call (https://athena.brynmawr.edu/jupyter/user/pmalyala/static/notebook/js/main.min.js?v=1c2abb797e9945d6ce7d58ae051fe985:30775:36)\n    at ShortcutManager.call_handler (https://athena.brynmawr.edu/jupyter/user/pmalyala/static/notebook/js/main.min.js?v=1c2abb797e9945d6ce7d58ae051fe985:19785:33)\n    at KeyboardManager.handle_keydown (https://athena.brynmawr.edu/jupyter/user/pmalyala/static/notebook/js/main.min.js?v=1c2abb797e9945d6ce7d58ae051fe985:30954:40)\n    at HTMLDocument.<anonymous> (https://athena.brynmawr.edu/jupyter/user/pmalyala/static/notebook/js/main.min.js?v=1c2abb797e9945d6ce7d58ae051fe985:30920:25)"
     ]
    }
   ],
   "source": [
    "error"
   ]
  },
  {
   "cell_type": "code",
   "execution_count": null,
   "metadata": {
    "collapsed": true
   },
   "outputs": [],
   "source": []
  }
 ],
 "metadata": {
  "kernelspec": {
   "display_name": "Javascript",
   "language": "",
   "name": "jskernel"
  },
  "language_info": {
   "file_extension": ".js",
   "mimetype": "text/javascript",
   "name": "javascript"
  },
  "widgets": {
   "state": {},
   "version": "1.1.2"
  }
 },
 "nbformat": 4,
 "nbformat_minor": 0
}
