{
 "cells": [
  {
   "cell_type": "markdown",
   "metadata": {},
   "source": [
    "working to use javascript on this computer to control robot"
   ]
  },
  {
   "cell_type": "markdown",
   "metadata": {},
   "source": [
    "WEB SCRAPING NODE.JS\n",
    "npm installs cheerio, connecting to the internet automatically\n",
    "use cheerio or request module\n",
    "follow youtube tutorial\n",
    "read webpage\n",
    "make and test on jupyter\n",
    "pycurl"
   ]
  },
  {
   "cell_type": "markdown",
   "metadata": {},
   "source": [
    "rendering html as response\n",
    "//plain change to html\n",
    "\n",
    "var http = require('http');\n",
    "var fs = require('fs'); //file system module\n",
    "\n",
    "function onRequest(request, response) {\n",
    "    response.writeHead(200, {'Content-Type': 'text/plain'});\n",
    "    fs.readFile('./index.html', null, function(error, data) {\n",
    "        if (error) {\n",
    "            response.writeHead(404);\n",
    "            response.write('File not found!');\n",
    "        } else {\n",
    "            response.write(data);\n",
    "        }\n",
    "    response.end();\n",
    "});\n",
    "}\n",
    "\n",
    "http.createServer(onRequest).listen(8000);"
   ]
  },
  {
   "cell_type": "markdown",
   "metadata": {},
   "source": [
    "https://www.youtube.com/watch?v=JEnGFGckk8A&index=2&list=PLGquJ_T_JBMSfMO7yPR7kkZCJc8xQg0Gf\n",
    "\n",
    "open node console\n",
    "node.js command prompt\n",
    "open a directory for your files\n",
    "create new js file\n",
    "npm init generates package.json for you and also see ex1.js file\n",
    "test node ex1.js\n",
    "var express = require('express');\n",
    "var path = require('path');\n",
    "var request = require('request');\n",
    "var cheerio = require('cheerio');\n",
    "var fs = require('fs');\n",
    "var app = express();\n",
    "var port = 3000;\n",
    "\n",
    "var url = \"http://google.com\";\n",
    "request(url, function(err, resp, body) {\n",
    "\n",
    "})\n",
    "\n",
    "app.listen(port);\n",
    "console.log('server is listening on' + port);"
   ]
  },
  {
   "cell_type": "markdown",
   "metadata": {},
   "source": [
    "https://www.youtube.com/watch?v=LJHpm0J688Y\n",
    "markups may change\n",
    "cheerio is a module that provides jquery manipulation of webpages\n",
    "load html into cheerio\n",
    "request is all purpose http module\n",
    "use the console\n",
    "hover over elements and it should show and if you click it should show you where it is in the dom\n",
    "context that has all the classes in it\n",
    "they all had class titles, so find those links\n",
    "href is link to img url\n",
    "open terminal cd to directory 'node/tuts/scraping'\n",
    "then run node scraping.js\n",
    "install cheerio, request\n",
    "npm install request cheerio\n",
    "then do node scraping.js\n",
    "all urls from front pg\n",
    "\n",
    "\n",
    "var request = require('request'),\n",
    "    cheerio = require('cheerio'),\n",
    "    urls = [];\n",
    "    \n",
    "request('url you want to scrape/download, function(err, resp, body){\n",
    "    if(!err && resp.statusCode == 200){\n",
    "        var $ = cheerio.load(body);\n",
    "        $('a.title', '#siteTable').each(function(){\n",
    "            var url = this.attr('href');\n",
    "            urls.push(url);\n",
    "        });\n",
    "        \n",
    "        console.log(urls);\n",
    "    }\n",
    "});"
   ]
  },
  {
   "cell_type": "markdown",
   "metadata": {},
   "source": [
    "https://www.youtube.com/watch?v=c4kueQrI9DM\n",
    "name new directory: 'images'\n",
    "cd ~\n",
    "cd Desktop/\n",
    "mkdir catnode\n",
    "cd catnode/\n",
    "touch app.js\n",
    "mkdir images\n",
    "npm init\n",
    "accept all json defaults\n",
    "then \n",
    "npm install request cheerio fs\n",
    "--save\n",
    "open -a \"Sublime Text 2\"\n",
    "var request = require('request'),\n",
    "    cheerio = require('cheerio'),\n",
    "    fs = require('fs');*\n",
    "    var images = [];\n",
    "    \n",
    "request('thisurl')"
   ]
  },
  {
   "cell_type": "code",
   "execution_count": 1,
   "metadata": {
    "collapsed": false
   },
   "outputs": [
    {
     "ename": "SyntaxError",
     "evalue": "Unexpected token ILLEGAL",
     "output_type": "error",
     "traceback": [
      "SyntaxError: Unexpected token ILLEGAL\n    at execute (https://athena.brynmawr.edu/jupyter/user/pmalyala/kernelspecs/jskernel/kernel.js?v=20160712094944:53:22)\n    at CodeCell.execute (https://athena.brynmawr.edu/jupyter/user/pmalyala/static/notebook/js/main.min.js?v=1c2abb797e9945d6ce7d58ae051fe985:21675:40)\n    at Notebook.execute_cell_and_select_below (https://athena.brynmawr.edu/jupyter/user/pmalyala/static/notebook/js/main.min.js?v=1c2abb797e9945d6ce7d58ae051fe985:27190:18)\n    at _actions.run-cell-and-select-next.handler (https://athena.brynmawr.edu/jupyter/user/pmalyala/static/notebook/js/main.min.js?v=1c2abb797e9945d6ce7d58ae051fe985:30167:30)\n    at Object.final_actions.(anonymous function).handler (https://athena.brynmawr.edu/jupyter/user/pmalyala/static/notebook/js/main.min.js?v=1c2abb797e9945d6ce7d58ae051fe985:30673:25)\n    at ActionHandler.call (https://athena.brynmawr.edu/jupyter/user/pmalyala/static/notebook/js/main.min.js?v=1c2abb797e9945d6ce7d58ae051fe985:30775:36)\n    at ShortcutManager.call_handler (https://athena.brynmawr.edu/jupyter/user/pmalyala/static/notebook/js/main.min.js?v=1c2abb797e9945d6ce7d58ae051fe985:19785:33)\n    at KeyboardManager.handle_keydown (https://athena.brynmawr.edu/jupyter/user/pmalyala/static/notebook/js/main.min.js?v=1c2abb797e9945d6ce7d58ae051fe985:30954:40)\n    at HTMLDocument.<anonymous> (https://athena.brynmawr.edu/jupyter/user/pmalyala/static/notebook/js/main.min.js?v=1c2abb797e9945d6ce7d58ae051fe985:30920:25)\n    at HTMLDocument.x.event.dispatch (https://athena.brynmawr.edu/jupyter/user/pmalyala/static/notebook/js/main.min.js?v=1c2abb797e9945d6ce7d58ae051fe985:88:10006)"
     ]
    }
   ],
   "source": [
    "var request = require('request'),\n",
    "    cheerio = require('cheerio'),\n",
    "    urls = [];\n",
    "    \n",
    "request('https://www.reddit.com/, function(err, resp, body) {\n",
    "    if(!err && resp.statusCode == 200){\n",
    "        var $ = cheerio.load(body);\n",
    "        $('a.title', '#siteTable').each(function(){\n",
    "            var url = this.attr('href');\n",
    "            urls.push(url);\n",
    "        });\n",
    "        \n",
    "        console.log(urls);\n",
    "    }\n",
    "});"
   ]
  },
  {
   "cell_type": "markdown",
   "metadata": {},
   "source": [
    "jQuery\n",
    "function (a,b){return new n.fn.init(a,b)}\n",
    "$('.rBookName')\n",
    "[]\n",
    "$('.eBookName')\n",
    "//[\n",
    "//$('.eBookWrapper')\n",
    "all_books=\"\";\n",
    "\n",
    "$('.eBookWrapper').each(function(){\n",
    "all_books=$(this).attr('title');\n",
    "})\n",
    "all_books\n",
    "\n",
    "all_books=\"\";\n",
    "$('.eBookWrapper').each(function(){\n",
    "all_books+=$(this).attr('title')+'\\n\\n';\n"
   ]
  },
  {
   "cell_type": "markdown",
   "metadata": {},
   "source": [
    "https://www.youtube.com/watch?v=EexwhUdvLGw"
   ]
  },
  {
   "cell_type": "code",
   "execution_count": 1,
   "metadata": {
    "collapsed": false
   },
   "outputs": [
    {
     "data": {
      "text/plain": [
       "[object Object]"
      ]
     },
     "execution_count": 1,
     "metadata": {},
     "output_type": "execute_result"
    }
   ],
   "source": [
    "//MOST HELPFUL\n",
    "$.ajax({ //my ajax request\n",
    "        url: \"//165.106.132.27:3000/\",\n",
    "        type: \"GET\",\n",
    "        crossDomain: true,\n",
    "        timeout: 2000,\n",
    "        success : function(res){alert(\"good! \" + res);},\n",
    "        error : function(res){console.log(\"fail\"); console.log(res);}\n",
    "});"
   ]
  },
  {
   "cell_type": "code",
   "execution_count": null,
   "metadata": {
    "collapsed": true
   },
   "outputs": [],
   "source": []
  }
 ],
 "metadata": {
  "kernelspec": {
   "display_name": "Javascript",
   "language": "",
   "name": "jskernel"
  },
  "language_info": {
   "file_extension": ".js",
   "mimetype": "text/javascript",
   "name": "javascript"
  },
  "widgets": {
   "state": {},
   "version": "1.1.2"
  }
 },
 "nbformat": 4,
 "nbformat_minor": 0
}
