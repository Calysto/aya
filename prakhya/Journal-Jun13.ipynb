{
 "cells": [
  {
   "cell_type": "markdown",
   "metadata": {},
   "source": [
    "helped with the nao\n",
    "\n",
    "programming it but visionrecognition didn't work\n",
    "\n",
    "tried to ssh in to download choregraphe\n",
    "\n"
   ]
  }
 ],
 "metadata": {
  "kernelspec": {
   "display_name": "Javascript",
   "language": "",
   "name": "jskernel"
  },
  "language_info": {
   "file_extension": ".js",
   "mimetype": "text/javascript",
   "name": "javascript"
  },
  "widgets": {
   "state": {},
   "version": "1.1.2"
  }
 },
 "nbformat": 4,
 "nbformat_minor": 0
}
