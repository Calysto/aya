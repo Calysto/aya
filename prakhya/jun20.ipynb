{
 "cells": [
  {
   "cell_type": "markdown",
   "metadata": {},
   "source": [
    "from naoqi import ALProxy\n",
    "import time\n",
    "\n",
    "\n",
    "class Robot:\n",
    "    def __init__(self, ip, port):\n",
    "        self.ip = ip\n",
    "        self.port = port\n",
    "        self.proxy = {}\n",
    "        self.proxy[\"tts\"] = ALProxy(\"ALTextToSpeech\", self.ip, self.port)\n",
    "        #self.pose = ALProxy(\"ALRobotPose\", self.ip, self.port)\n",
    "\n",
    "    def say(self, text):\n",
    "        self.proxy[\"tts\"].say(text)\n",
    "\n",
    "    def start(self, name, proxyname):\n",
    "        self.proxy[name] = ALProxy(proxyname, self.ip, self.port)\n",
    "\n",
    "def test():\n",
    "    wol = Robot(\"165.106.241.204\",9559)\n",
    "    targetName = \"RedBall\"\n",
    "    diameterOfBall = 0.06\n",
    "    wol.start(\"stiffness\", \"ALMotion\")\n",
    "    temp = wol.proxy[\"stiffness\"].setStiffnesses(\"Body\", 1)\n",
    "    wol.start(\"tracker\", \"ALTracker\")\n",
    "    temp = wol.proxy[\"tracker\"].registerTarget(targetName, diameterOfBall)\n",
    "    time.sleep(3)\n",
    "    temp1 = wol.proxy[\"tracker\"].getRegisteredTargets()\n",
    "    time.sleep(1)\n",
    "    print temp1\n",
    "    wol.proxy[\"tracker\"].getMode()\n",
    "    wol.proxy[\"tracker\"].track(\"RedBall\")\n",
    "    time.sleep(30)\n",
    "    wol.proxy[\"tracker\"].stopTracker()\n",
    "\n",
    "test()\n",
    "redball tracking code "
   ]
  }
 ],
 "metadata": {
  "kernelspec": {
   "display_name": "Javascript",
   "language": "",
   "name": "jskernel"
  },
  "language_info": {
   "file_extension": ".js",
   "mimetype": "text/javascript",
   "name": "javascript"
  },
  "widgets": {
   "state": {},
   "version": "1.1.2"
  }
 },
 "nbformat": 4,
 "nbformat_minor": 0
}
