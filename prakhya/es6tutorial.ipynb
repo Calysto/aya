{
 "cells": [
  {
   "cell_type": "markdown",
   "metadata": {},
   "source": [
    "class shape {\n",
    "    constructor(shapeName) {\n",
    "        \n",
    "        this.\n",
    "        \n",
    "        this.shapeName = shapeName;\n",
    "        \n",
    "    }\n",
    "}\n",
    "\n",
    "var myShape = new Shape(\"square\");"
   ]
  }
 ],
 "metadata": {
  "kernelspec": {
   "display_name": "Javascript",
   "language": "",
   "name": "jskernel"
  },
  "language_info": {
   "file_extension": ".js",
   "mimetype": "text/javascript",
   "name": "javascript"
  },
  "widgets": {
   "state": {},
   "version": "1.1.2"
  }
 },
 "nbformat": 4,
 "nbformat_minor": 0
}
