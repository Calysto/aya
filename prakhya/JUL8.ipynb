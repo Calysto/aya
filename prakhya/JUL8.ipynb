{
 "cells": [
  {
   "cell_type": "markdown",
   "metadata": {},
   "source": [
    "Let's see what we can do in the compatibility table"
   ]
  },
  {
   "cell_type": "markdown",
   "metadata": {},
   "source": [
    "Syntax:\n",
    "Rest Parameters"
   ]
  },
  {
   "cell_type": "markdown",
   "metadata": {},
   "source": [
    "represent indefinite # of arguments as an array"
   ]
  },
  {
   "cell_type": "code",
   "execution_count": 1,
   "metadata": {
    "collapsed": false
   },
   "outputs": [
    {
     "ename": "SyntaxError",
     "evalue": "Unexpected token (",
     "output_type": "error",
     "traceback": [
      "SyntaxError: Unexpected token (\n    at execute (https://athena.brynmawr.edu/jupyter/user/pmalyala/kernelspecs/jskernel/kernel.js?v=20160613104332:53:22)\n    at CodeCell.execute (https://athena.brynmawr.edu/jupyter/user/pmalyala/static/notebook/js/main.min.js?v=1c2abb797e9945d6ce7d58ae051fe985:21675:40)\n    at Notebook.execute_cell_and_select_below (https://athena.brynmawr.edu/jupyter/user/pmalyala/static/notebook/js/main.min.js?v=1c2abb797e9945d6ce7d58ae051fe985:27190:18)\n    at _actions.run-cell-and-select-next.handler (https://athena.brynmawr.edu/jupyter/user/pmalyala/static/notebook/js/main.min.js?v=1c2abb797e9945d6ce7d58ae051fe985:30167:30)\n    at Object.final_actions.(anonymous function).handler (https://athena.brynmawr.edu/jupyter/user/pmalyala/static/notebook/js/main.min.js?v=1c2abb797e9945d6ce7d58ae051fe985:30673:25)\n    at ActionHandler.call (https://athena.brynmawr.edu/jupyter/user/pmalyala/static/notebook/js/main.min.js?v=1c2abb797e9945d6ce7d58ae051fe985:30775:36)\n    at ShortcutManager.call_handler (https://athena.brynmawr.edu/jupyter/user/pmalyala/static/notebook/js/main.min.js?v=1c2abb797e9945d6ce7d58ae051fe985:19785:33)\n    at KeyboardManager.handle_keydown (https://athena.brynmawr.edu/jupyter/user/pmalyala/static/notebook/js/main.min.js?v=1c2abb797e9945d6ce7d58ae051fe985:30954:40)\n    at HTMLDocument.<anonymous> (https://athena.brynmawr.edu/jupyter/user/pmalyala/static/notebook/js/main.min.js?v=1c2abb797e9945d6ce7d58ae051fe985:30920:25)\n    at HTMLDocument.x.event.dispatch (https://athena.brynmawr.edu/jupyter/user/pmalyala/static/notebook/js/main.min.js?v=1c2abb797e9945d6ce7d58ae051fe985:88:10006)"
     ]
    }
   ],
   "source": [
    "function(a, b, ...theArgs) {\n",
    "  // ...\n",
    "}"
   ]
  },
  {
   "cell_type": "markdown",
   "metadata": {},
   "source": [
    "If the last named argument of a function is prefixed with ..., it becomes an array whose elements from 0 (inclusive) to theArgs.length (exclusive) are supplied by the actual arguments passed to the function.\n",
    "\n",
    "In the above example, theArgs would collect the third argument of the function (because the first one is mapped to a, and the second to b) and all the consecutive arguments."
   ]
  },
  {
   "cell_type": "markdown",
   "metadata": {},
   "source": [
    "rest parameters vs arguments object:\n",
    "\n",
    "* rest parameters only the ones that haven't been given a separate name, while the arguments object contains all arguments passed to the function;\n",
    "\n",
    "* the arguments object isn't a real array, while rest parameters are Array instances, meaning methods like sort, map, forEach or pop can be applied on it directly;\n",
    "\n",
    "* the arguments object has additional functionality specific to itself (like the callee property).\n",
    "\n",
    "// Before rest parameters, the following could be found:\n",
    "function f(a, b){\n",
    "  var args = Array.prototype.slice.call(arguments, f.length);\n",
    "\n",
    "  // …\n",
    "}\n",
    "\n",
    "// to be equivalent of\n",
    "\n",
    "function f(a, b, ...args) {\n",
    "  \n",
    "}"
   ]
  },
  {
   "cell_type": "code",
   "execution_count": 2,
   "metadata": {
    "collapsed": false
   },
   "outputs": [
    {
     "name": "stdout",
     "output_type": "stream",
     "text": [
      "0\n",
      "1\n",
      "3\n"
     ]
    }
   ],
   "source": [
    "function fun1(...theArgs) {\n",
    "  console.log(theArgs.length);\n",
    "}\n",
    "\n",
    "fun1();  // 0\n",
    "fun1(5); // 1\n",
    "fun1(5, 6, 7); // 3"
   ]
  },
  {
   "cell_type": "markdown",
   "metadata": {},
   "source": [
    "recommend ff for default function parameters?\n",
    "targeted research, state of the art distinctions\n",
    "http://dmitrysoshnikov.com/ecmascript/es6-notes-default-values-of-parameters/"
   ]
  },
  {
   "cell_type": "code",
   "execution_count": 3,
   "metadata": {
    "collapsed": false
   },
   "outputs": [
    {
     "ename": "SyntaxError",
     "evalue": "Unexpected token [",
     "output_type": "error",
     "traceback": [
      "SyntaxError: Unexpected token [\n    at execute (https://athena.brynmawr.edu/jupyter/user/pmalyala/kernelspecs/jskernel/kernel.js?v=20160613104332:53:22)\n    at CodeCell.execute (https://athena.brynmawr.edu/jupyter/user/pmalyala/static/notebook/js/main.min.js?v=1c2abb797e9945d6ce7d58ae051fe985:21675:40)\n    at Notebook.execute_cell_and_select_below (https://athena.brynmawr.edu/jupyter/user/pmalyala/static/notebook/js/main.min.js?v=1c2abb797e9945d6ce7d58ae051fe985:27190:18)\n    at _actions.run-cell-and-select-next.handler (https://athena.brynmawr.edu/jupyter/user/pmalyala/static/notebook/js/main.min.js?v=1c2abb797e9945d6ce7d58ae051fe985:30167:30)\n    at Object.final_actions.(anonymous function).handler (https://athena.brynmawr.edu/jupyter/user/pmalyala/static/notebook/js/main.min.js?v=1c2abb797e9945d6ce7d58ae051fe985:30673:25)\n    at ActionHandler.call (https://athena.brynmawr.edu/jupyter/user/pmalyala/static/notebook/js/main.min.js?v=1c2abb797e9945d6ce7d58ae051fe985:30775:36)\n    at ShortcutManager.call_handler (https://athena.brynmawr.edu/jupyter/user/pmalyala/static/notebook/js/main.min.js?v=1c2abb797e9945d6ce7d58ae051fe985:19785:33)\n    at KeyboardManager.handle_keydown (https://athena.brynmawr.edu/jupyter/user/pmalyala/static/notebook/js/main.min.js?v=1c2abb797e9945d6ce7d58ae051fe985:30954:40)\n    at HTMLDocument.<anonymous> (https://athena.brynmawr.edu/jupyter/user/pmalyala/static/notebook/js/main.min.js?v=1c2abb797e9945d6ce7d58ae051fe985:30920:25)\n    at HTMLDocument.x.event.dispatch (https://athena.brynmawr.edu/jupyter/user/pmalyala/static/notebook/js/main.min.js?v=1c2abb797e9945d6ce7d58ae051fe985:88:10006)"
     ]
    }
   ],
   "source": [
    "  // Variable declarations:\n",
    "    let [x] = ['a'];\n",
    "    const [x] = ['a'];\n",
    "    var [x] = ['a'];\n",
    "    \n",
    "    // Assignments:\n",
    "    [x] = ['a'];\n",
    "    \n",
    "    // Parameter definitions:\n",
    "    function f([x]) { ··· }\n",
    "    f(['a']);\n"
   ]
  },
  {
   "cell_type": "markdown",
   "metadata": {},
   "source": [
    "https://developer.mozilla.org/en-US/docs/Web/JavaScript/Reference/Functions/Default_parameters\n",
    "http://exploringjs.com/es6/ch_parameter-handling.html\n",
    "http://www.2ality.com/2015/01/es6-destructuring.html"
   ]
  },
  {
   "cell_type": "code",
   "execution_count": null,
   "metadata": {
    "collapsed": true
   },
   "outputs": [],
   "source": []
  }
 ],
 "metadata": {
  "kernelspec": {
   "display_name": "Javascript",
   "language": "",
   "name": "jskernel"
  },
  "language_info": {
   "file_extension": ".js",
   "mimetype": "text/javascript",
   "name": "javascript"
  },
  "widgets": {
   "state": {},
   "version": "1.1.2"
  }
 },
 "nbformat": 4,
 "nbformat_minor": 0
}
