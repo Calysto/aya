{
 "cells": [
  {
   "cell_type": "markdown",
   "metadata": {},
   "source": [
    "let's see ecs6"
   ]
  },
  {
   "cell_type": "code",
   "execution_count": 1,
   "metadata": {
    "collapsed": false
   },
   "outputs": [
    {
     "name": "stdout",
     "output_type": "stream",
     "text": [
      "0\n",
      "2\n",
      "4\n",
      "6\n",
      "8\n"
     ]
    }
   ],
   "source": [
    "function* range (start, end, step) {\n",
    "    while (start < end) {\n",
    "        yield start\n",
    "        start += step\n",
    "    }\n",
    "}\n",
    "\n",
    "for (let i of range(0, 10, 2)) {\n",
    "    console.log(i) // 0, 2, 4, 6, 8\n",
    "}\n"
   ]
  },
  {
   "cell_type": "code",
   "execution_count": 2,
   "metadata": {
    "collapsed": false
   },
   "outputs": [
    {
     "name": "stdout",
     "output_type": "stream",
     "text": [
      "1\n",
      "2\n",
      "3\n",
      "5\n",
      "8\n",
      "13\n",
      "21\n",
      "34\n",
      "55\n",
      "89\n",
      "144\n",
      "233\n",
      "377\n",
      "610\n",
      "987\n"
     ]
    }
   ],
   "source": [
    "let fibonacci = {\n",
    "    *[Symbol.iterator]() {\n",
    "        let pre = 0, cur = 1\n",
    "        for (;;) {\n",
    "            [ pre, cur ] = [ cur, pre + cur ]\n",
    "            yield cur\n",
    "        }\n",
    "    }\n",
    "}\n",
    "\n",
    "for (let n of fibonacci) {\n",
    "    if (n > 1000)\n",
    "        break\n",
    "    console.log(n)\n",
    "}"
   ]
  },
  {
   "cell_type": "code",
   "execution_count": 3,
   "metadata": {
    "collapsed": false
   },
   "outputs": [
    {
     "data": {
      "text/plain": [
       "[object Promise]"
      ]
     },
     "execution_count": 3,
     "metadata": {},
     "output_type": "execute_result"
    }
   ],
   "source": [
    "//  generic asynchronous control-flow driver\n",
    "function async (proc, ...params) {\n",
    "    var iterator = proc(...params)\n",
    "    return new Promise((resolve, reject) => {\n",
    "        let loop = (value) => {\n",
    "            let result\n",
    "            try {\n",
    "                result = iterator.next(value)\n",
    "            }\n",
    "            catch (err) {\n",
    "                reject(err)\n",
    "            }\n",
    "            if (result.done)\n",
    "                resolve(result.value)\n",
    "            else if (   typeof result.value      === \"object\"\n",
    "                     && typeof result.value.then === \"function\")\n",
    "                result.value.then((value) => {\n",
    "                    loop(value)\n",
    "                }, (err) => {\n",
    "                    reject(err)\n",
    "                })\n",
    "            else\n",
    "                loop(result.value)\n",
    "        }\n",
    "        loop()\n",
    "    })\n",
    "}\n",
    "\n",
    "//  application-specific asynchronous builder\n",
    "function makeAsync (text, after) {\n",
    "    return new Promise((resolve, reject) => {\n",
    "        setTimeout(() => resolve(text), after)\n",
    "    })\n",
    "}\n",
    "\n",
    "//  application-specific asynchronous procedure\n",
    "async(function* (greeting) {\n",
    "    let foo = yield makeAsync(\"foo\", 300)\n",
    "    let bar = yield makeAsync(\"bar\", 200)\n",
    "    let baz = yield makeAsync(\"baz\", 100)\n",
    "    return `${greeting} ${foo} ${bar} ${baz}`\n",
    "}, \"Hello\").then((msg) => {\n",
    "    console.log(\"RESULT:\", msg) // \"Hello foo bar baz\"\n",
    "})"
   ]
  },
  {
   "cell_type": "code",
   "execution_count": 4,
   "metadata": {
    "collapsed": false
   },
   "outputs": [
    {
     "ename": "ReferenceError",
     "evalue": "s is not defined",
     "output_type": "error",
     "traceback": [
      "ReferenceError: s is not defined\n    at eval (eval at execute (https://athena.brynmawr.edu/jupyter/user/pmalyala/kernelspecs/jskernel/kernel.js?v=20160713142637:53:22), <anonymous>:3:7)\n    at Kernel.execute (https://athena.brynmawr.edu/jupyter/user/pmalyala/kernelspecs/jskernel/kernel.js?v=20160713142637:53:17)\n    at Cell.CodeCell.execute (https://athena.brynmawr.edu/jupyter/user/pmalyala/static/notebook/js/main.min.js?v=1c2abb797e9945d6ce7d58ae051fe985:21675:40)\n    at Notebook.execute_cell_and_select_below (https://athena.brynmawr.edu/jupyter/user/pmalyala/static/notebook/js/main.min.js?v=1c2abb797e9945d6ce7d58ae051fe985:27190:18)\n    at handler (https://athena.brynmawr.edu/jupyter/user/pmalyala/static/notebook/js/main.min.js?v=1c2abb797e9945d6ce7d58ae051fe985:30167:30)\n    at Object.final_actions.(anonymous function).handler (https://athena.brynmawr.edu/jupyter/user/pmalyala/static/notebook/js/main.min.js?v=1c2abb797e9945d6ce7d58ae051fe985:30673:25)\n    at ActionHandler.call (https://athena.brynmawr.edu/jupyter/user/pmalyala/static/notebook/js/main.min.js?v=1c2abb797e9945d6ce7d58ae051fe985:30775:36)\n    at ShortcutManager.call_handler (https://athena.brynmawr.edu/jupyter/user/pmalyala/static/notebook/js/main.min.js?v=1c2abb797e9945d6ce7d58ae051fe985:19785:33)\n    at KeyboardManager.handle_keydown (https://athena.brynmawr.edu/jupyter/user/pmalyala/static/notebook/js/main.min.js?v=1c2abb797e9945d6ce7d58ae051fe985:30954:40)\n    at HTMLDocument.<anonymous> (https://athena.brynmawr.edu/jupyter/user/pmalyala/static/notebook/js/main.min.js?v=1c2abb797e9945d6ce7d58ae051fe985:30920:25)"
     ]
    }
   ],
   "source": [
    "let m = new Map()\n",
    "m.set(\"hello\", 42)\n",
    "m.set(s, 34)\n",
    "m.get(s) === 34\n",
    "m.size === 2\n",
    "for (let [ key, val ] of m.entries())\n",
    "    console.log(key + \" = \" + val)"
   ]
  },
  {
   "cell_type": "code",
   "execution_count": 5,
   "metadata": {
    "collapsed": false
   },
   "outputs": [
    {
     "data": {
      "text/plain": [
       "4"
      ]
     },
     "execution_count": 5,
     "metadata": {},
     "output_type": "execute_result"
    }
   ],
   "source": [
    "[ 1, 3, 4, 2 ].find(x => x > 3) // 4\n"
   ]
  },
  {
   "cell_type": "code",
   "execution_count": 6,
   "metadata": {
    "collapsed": false
   },
   "outputs": [
    {
     "data": {
      "text/plain": [
       "true"
      ]
     },
     "execution_count": 6,
     "metadata": {},
     "output_type": "execute_result"
    }
   ],
   "source": [
    "let target = {\n",
    "    foo: \"Welcome, foo\"\n",
    "}\n",
    "let proxy = new Proxy(target, {\n",
    "    get (receiver, name) {\n",
    "        return name in receiver ? receiver[name] : `Hello, ${name}`\n",
    "    }\n",
    "})\n",
    "proxy.foo   === \"Welcome, foo\"\n",
    "proxy.world === \"Hello, world\"\n"
   ]
  },
  {
   "cell_type": "code",
   "execution_count": 7,
   "metadata": {
    "collapsed": false
   },
   "outputs": [
    {
     "ename": "SyntaxError",
     "evalue": "Unexpected identifier",
     "output_type": "error",
     "traceback": [
      "SyntaxError: Unexpected identifier\n    at Kernel.execute (https://athena.brynmawr.edu/jupyter/user/pmalyala/kernelspecs/jskernel/kernel.js?v=20160713142637:53:22)\n    at Cell.CodeCell.execute (https://athena.brynmawr.edu/jupyter/user/pmalyala/static/notebook/js/main.min.js?v=1c2abb797e9945d6ce7d58ae051fe985:21675:40)\n    at Notebook.execute_cell_and_select_below (https://athena.brynmawr.edu/jupyter/user/pmalyala/static/notebook/js/main.min.js?v=1c2abb797e9945d6ce7d58ae051fe985:27190:18)\n    at handler (https://athena.brynmawr.edu/jupyter/user/pmalyala/static/notebook/js/main.min.js?v=1c2abb797e9945d6ce7d58ae051fe985:30167:30)\n    at Object.final_actions.(anonymous function).handler (https://athena.brynmawr.edu/jupyter/user/pmalyala/static/notebook/js/main.min.js?v=1c2abb797e9945d6ce7d58ae051fe985:30673:25)\n    at ActionHandler.call (https://athena.brynmawr.edu/jupyter/user/pmalyala/static/notebook/js/main.min.js?v=1c2abb797e9945d6ce7d58ae051fe985:30775:36)\n    at ShortcutManager.call_handler (https://athena.brynmawr.edu/jupyter/user/pmalyala/static/notebook/js/main.min.js?v=1c2abb797e9945d6ce7d58ae051fe985:19785:33)\n    at KeyboardManager.handle_keydown (https://athena.brynmawr.edu/jupyter/user/pmalyala/static/notebook/js/main.min.js?v=1c2abb797e9945d6ce7d58ae051fe985:30954:40)\n    at HTMLDocument.<anonymous> (https://athena.brynmawr.edu/jupyter/user/pmalyala/static/notebook/js/main.min.js?v=1c2abb797e9945d6ce7d58ae051fe985:30920:25)\n    at HTMLDocument.dispatch (https://athena.brynmawr.edu/jupyter/user/pmalyala/static/notebook/js/main.min.js?v=1c2abb797e9945d6ce7d58ae051fe985:88:10006)"
     ]
    }
   ],
   "source": [
    "ar aggregation = (baseClass, ...mixins) => {\n",
    "    let base = class _Combined extends baseClass {\n",
    "        constructor (...args) {\n",
    "            super(...args)\n",
    "            mixins.forEach((mixin) => {\n",
    "                mixin.prototype.initializer.call(this)\n",
    "            })\n",
    "        }\n",
    "    }\n",
    "    let copyProps = (target, source) => {\n",
    "        Object.getOwnPropertyNames(source)\n",
    "            .concat(Object.getOwnPropertySymbols(source))\n",
    "            .forEach((prop) => {\n",
    "            if (prop.match(/^(?:constructor|prototype|arguments|caller|name|bind|call|apply|toString|length)$/))\n",
    "                return\n",
    "            Object.defineProperty(target, prop, Object.getOwnPropertyDescriptor(source, prop))\n",
    "        })\n",
    "    }\n",
    "    mixins.forEach((mixin) => {\n",
    "        copyProps(base.prototype, mixin.prototype)\n",
    "        copyProps(base, mixin)\n",
    "    })\n",
    "    return base\n",
    "}\n",
    "\n",
    "class Colored {\n",
    "    initializer ()     { this._color = \"white\" }\n",
    "    get color ()       { return this._color }\n",
    "    set color (v)      { this._color = v }\n",
    "}\n",
    "\n",
    "class ZCoord {\n",
    "    initializer ()     { this._z = 0 }\n",
    "    get z ()           { return this._z }\n",
    "    set z (v)          { this._z = v }\n",
    "}\n",
    "\n",
    "class Shape {\n",
    "    constructor (x, y) { this._x = x; this._y = y }\n",
    "    get x ()           { return this._x }\n",
    "    set x (v)          { this._x = v }\n",
    "    get y ()           { return this._y }\n",
    "    set y (v)          { this._y = v }\n",
    "}\n",
    "\n",
    "class Rectangle extends aggregation(Shape, Colored, ZCoord) {}\n",
    "\n",
    "var rect = new Rectangle(7, 42)\n",
    "rect.z     = 1000\n",
    "rect.color = \"red\"\n",
    "console.log(rect.x, rect.y, rect.z, rect.color)\n"
   ]
  },
  {
   "cell_type": "markdown",
   "metadata": {},
   "source": [
    "http://es6-features.org/#ComputedPropertyNames"
   ]
  }
 ],
 "metadata": {
  "kernelspec": {
   "display_name": "Javascript",
   "language": "",
   "name": "jskernel"
  },
  "language_info": {
   "file_extension": ".js",
   "mimetype": "text/javascript",
   "name": "javascript"
  },
  "widgets": {
   "state": {},
   "version": "1.1.2"
  }
 },
 "nbformat": 4,
 "nbformat_minor": 0
}
