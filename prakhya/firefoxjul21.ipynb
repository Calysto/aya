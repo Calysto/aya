{
 "cells": [
  {
   "cell_type": "code",
   "execution_count": 4,
   "metadata": {
    "collapsed": false
   },
   "outputs": [],
   "source": [
    "class Media {\n",
    "  constructor(title, duration, isPlaying = false) {\n",
    "    this.title = title;\n",
    "    this.duration = duration;\n",
    "    this.isPlaying = isPlaying; \n",
    "  }\n",
    "  \n",
    "  start() {\n",
    "    this.isPlaying = true;\n",
    "  }\n",
    "  \n",
    "  stop() {\n",
    "    this.isPlaying = false;\n",
    "  }\n",
    "}\n",
    "\n",
    "class Song extends Media {\n",
    "  constructor(title, artist, duration, isPlaying = false) {\n",
    "    super(title, duration, isPlaying);\n",
    "    this.artist = artist;\n",
    "  } \n",
    "\n",
    "  toString() {\n",
    "    return `<li>\n",
    "          ${this.title} - ${this.artist} <span>${this.duration}</span>\n",
    "        </li>`;\n",
    "  }\n",
    "\n",
    "}"
   ]
  },
  {
   "cell_type": "code",
   "execution_count": null,
   "metadata": {
    "collapsed": true
   },
   "outputs": [],
   "source": []
  }
 ],
 "metadata": {
  "kernelspec": {
   "display_name": "Javascript",
   "language": "",
   "name": "jskernel"
  },
  "language_info": {
   "file_extension": ".js",
   "mimetype": "text/javascript",
   "name": "javascript"
  },
  "widgets": {
   "state": {},
   "version": "1.1.2"
  }
 },
 "nbformat": 4,
 "nbformat_minor": 0
}
