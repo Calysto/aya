{
 "cells": [
  {
   "cell_type": "markdown",
   "metadata": {},
   "source": [
    "do more demos with ecmascript6\n",
    "\n",
    "ecmascript6 makes JS more efficient, organized, clean and easier to work with\n",
    "\n",
    "https://developer.mozilla.org/en-US/docs/Web/JavaScript/Reference/Global_Objects/WeakMap"
   ]
  },
  {
   "cell_type": "markdown",
   "metadata": {},
   "source": [
    "https://www.youtube.com/watch?v=EUfQD8bpUcA&index=14&list=PLYxzS__5yYQkvEC2Dr1W9CTODbFQ0GhBZ\n",
    "jupyter doesn't fill in for you?"
   ]
  },
  {
   "cell_type": "markdown",
   "metadata": {
    "collapsed": false
   },
   "source": [
    "function myFunction(arg1, arg2) {\n",
    "    if(arg2 == undefined) {\n",
    "        arg2 = 100;\n",
    "    }\n",
    "    console.log(arguments);\n",
    "}\n",
    "\n",
    "myFunction(50);"
   ]
  },
  {
   "cell_type": "code",
   "execution_count": 9,
   "metadata": {
    "collapsed": false
   },
   "outputs": [
    {
     "name": "stdout",
     "output_type": "stream",
     "text": [
      "NaN\n"
     ]
    }
   ],
   "source": [
    "function myFunction(arg1 = 100, arg2) {\n",
    "    console.log(arg1 + arg2);\n",
    "}\n",
    "\n",
    "myFunction(20);"
   ]
  },
  {
   "cell_type": "markdown",
   "metadata": {},
   "source": [
    "works, but first one didn't in the console"
   ]
  },
  {
   "cell_type": "code",
   "execution_count": 10,
   "metadata": {
    "collapsed": false
   },
   "outputs": [
    {
     "name": "stdout",
     "output_type": "stream",
     "text": [
      "50\n"
     ]
    }
   ],
   "source": [
    "//fat arrow functions\n",
    "// var add = function(num1, num2) {\n",
    "//     return num1 + num2;\n",
    "// };\n",
    "//ecmascript..\n",
    "var add = (num1, num2) => {\n",
    "    var sum = num1 + num2;\n",
    "    return sum;\n",
    "};\n",
    "\n",
    "console.log(add(10, 40));\n"
   ]
  },
  {
   "cell_type": "code",
   "execution_count": 12,
   "metadata": {
    "collapsed": false
   },
   "outputs": [
    {
     "name": "stdout",
     "output_type": "stream",
     "text": [
      "50\n"
     ]
    }
   ],
   "source": [
    "var add = (num1, num2) => num1 + num2;\n",
    "\n",
    "console.log(add(10, 40));"
   ]
  },
  {
   "cell_type": "code",
   "execution_count": 14,
   "metadata": {
    "collapsed": true
   },
   "outputs": [],
   "source": [
    "//compact code^"
   ]
  },
  {
   "cell_type": "code",
   "execution_count": 21,
   "metadata": {
    "collapsed": true
   },
   "outputs": [],
   "source": [
    "//DESTRUCTURING\n",
    "var bestSites = ['google', 'facebook', 'yahoo', 'reddit']\n",
    "\n",
    "var [first, , ,fourth] = bestSites;\n",
    "\n",
    "alert(first);\n",
    "alert(fourth);"
   ]
  },
  {
   "cell_type": "code",
   "execution_count": 43,
   "metadata": {
    "collapsed": true
   },
   "outputs": [],
   "source": [
    "//need to look at add and sub, because that is the return of the whole thing is undefined, so just type add, sub, whatever func \n",
    "//into the >>\n",
    "function doesEverything(a, b) {\n",
    "    return [a+b, a-b];\n",
    "}\n",
    "var [add, sub] = doesEverything(4, 8); "
   ]
  },
  {
   "cell_type": "code",
   "execution_count": 40,
   "metadata": {
    "collapsed": false
   },
   "outputs": [
    {
     "name": "stdout",
     "output_type": "stream",
     "text": [
      "apple\n"
     ]
    }
   ],
   "source": [
    "//many times, property name is same variable name which contains the value for that property\n",
    "//object literal shorthand\n",
    "//return is dictionary so '.parameter' will return variable\n",
    "\"use strict\";\n",
    "\n",
    "function foods(like, dislike) {\n",
    "    return {\n",
    "        like,\n",
    "        dislike\n",
    "    };\n",
    "}\n",
    "\n",
    "var myFood = foods('apple', 'banana');\n",
    "\n",
    "console.log(myFood.like);"
   ]
  },
  {
   "cell_type": "code",
   "execution_count": 34,
   "metadata": {
    "collapsed": false
   },
   "outputs": [
    {
     "name": "stdout",
     "output_type": "stream",
     "text": [
      "hello aya!\n"
     ]
    }
   ],
   "source": [
    "//string templates brand new feature, multiline strings, string formatting, interpolation\n",
    "var name = \"aya\"\n",
    "\n",
    "var myVariable = `hello ${name}!`;\n",
    "\n",
    "console.log(myVariable);"
   ]
  },
  {
   "cell_type": "code",
   "execution_count": 37,
   "metadata": {
    "collapsed": false
   },
   "outputs": [
    {
     "name": "stdout",
     "output_type": "stream",
     "text": [
      "my String\n",
      "is really great\n",
      "and can be really long\n",
      "in ES6 without any \n",
      "breaks.\n"
     ]
    }
   ],
   "source": [
    "var myStr = `my String\n",
    "is really great\n",
    "and can be really long\n",
    "in ES6 without any \n",
    "breaks.`;\n",
    "\n",
    "console.log(myStr);"
   ]
  },
  {
   "cell_type": "markdown",
   "metadata": {},
   "source": [
    "https://www.youtube.com/watch?v=SlrirWY9JTk"
   ]
  },
  {
   "cell_type": "code",
   "execution_count": null,
   "metadata": {
    "collapsed": true
   },
   "outputs": [],
   "source": []
  }
 ],
 "metadata": {
  "kernelspec": {
   "display_name": "Javascript",
   "language": "",
   "name": "jskernel"
  },
  "language_info": {
   "file_extension": ".js",
   "mimetype": "text/javascript",
   "name": "javascript"
  },
  "widgets": {
   "state": {},
   "version": "1.1.2"
  }
 },
 "nbformat": 4,
 "nbformat_minor": 0
}
