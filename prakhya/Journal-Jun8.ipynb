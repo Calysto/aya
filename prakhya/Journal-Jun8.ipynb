{
 "cells": [
  {
   "cell_type": "markdown",
   "metadata": {},
   "source": [
    "going to work on the kernal\n",
    "\n",
    "experimenting with js\n",
    "\n",
    "https://www.quora.com/Why-do-many-people-programming-in-artificial-intelligence-choose-Python-and-JavaScript\n",
    "\n",
    "checked to see that what worked with typescript on other browsers works in kernal\n",
    "\n",
    "http://mind.sourceforge.net/js.html\n",
    "\n",
    "javascript's advantages in AI\n",
    "it is very secure\n",
    "http://javascript.info/tutorial/animation#the-basics-of-the-animation\n",
    "\n",
    "http://www.tutorialspoint.com/javascript/javascript_animation.htm"
   ]
  },
  {
   "cell_type": "markdown",
   "metadata": {},
   "source": [
    "mixed html and javascript for animation design\n",
    "\n",
    "http://www.webreference.com/programming/javascript/java_anim/index.html\n",
    "\n",
    "JavaScript, however, is usually the better option for almost everything else since it's much more versatile.\n",
    "\n",
    "jQuery is a library consisting of functions that essentially layer on top of plain JavaScript. jQuery wasn't designed to be a high-performance animation engine. Instead, it was designed to ease the headaches of DOM manipulation—a job it does amazingly well.\n",
    "\n",
    "I've mentioned the word easing a few times in this article, and maybe you're wondering what that means. Easing's are mathematical functions that determine the speed of the animation at different stages throughout its duration. For example, an \"ease-in-out\" easing gradually accelerates at the beginning of the animation, and gradually decelerates near the end of the animation. A \"linear\" easing has a constant speed throughout the duration, and looks very jarring and robotic.\n",
    "\n",
    "https://www.youtube.com/watch?v=F_iFYZDht6Q\n",
    "\n",
    "http://www.gotoandlearn.com/play.php?id=150"
   ]
  },
  {
   "cell_type": "code",
   "execution_count": null,
   "metadata": {
    "collapsed": true
   },
   "outputs": [],
   "source": []
  }
 ],
 "metadata": {
  "kernelspec": {
   "display_name": "Java 9",
   "language": "java",
   "name": "java9"
  },
  "language_info": {
   "file_extension": ".class",
   "mimetype": "application/java-vm",
   "name": "java"
  }
 },
 "nbformat": 4,
 "nbformat_minor": 0
}
