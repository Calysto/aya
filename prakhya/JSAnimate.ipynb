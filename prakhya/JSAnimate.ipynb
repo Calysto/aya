{
 "cells": [
  {
   "cell_type": "code",
   "execution_count": 14,
   "metadata": {
    "collapsed": false
   },
   "outputs": [
    {
     "data": {
      "text/plain": [
       "Doe"
      ]
     },
     "execution_count": 14,
     "metadata": {},
     "output_type": "execute_result"
    }
   ],
   "source": [
    "var person = {\n",
    "    firstName:\"Doug\",\n",
    "    lastName:\"Blank\",\n",
    "    age:20,\n",
    "    eyeColor:\"blue\"\n",
    "};\n",
    "person.lastName;"
   ]
  },
  {
   "cell_type": "code",
   "execution_count": 15,
   "metadata": {
    "collapsed": false
   },
   "outputs": [
    {
     "ename": "ReferenceError",
     "evalue": "person is not defined",
     "output_type": "error",
     "traceback": [
      "ReferenceError: person is not defined\n    at eval (eval at <anonymous> (https://athena.brynmawr.edu/jupyter/user/pmalyala/kernelspecs/jskernel/kernel.js?v=20160613104332:53:22), <anonymous>:1:1)\n    at execute (https://athena.brynmawr.edu/jupyter/user/pmalyala/kernelspecs/jskernel/kernel.js?v=20160613104332:53:17)\n    at CodeCell.execute (https://athena.brynmawr.edu/jupyter/user/pmalyala/static/notebook/js/main.min.js?v=1c2abb797e9945d6ce7d58ae051fe985:21675:40)\n    at Notebook.execute_cell_and_select_below (https://athena.brynmawr.edu/jupyter/user/pmalyala/static/notebook/js/main.min.js?v=1c2abb797e9945d6ce7d58ae051fe985:27190:18)\n    at _actions.run-cell-and-select-next.handler (https://athena.brynmawr.edu/jupyter/user/pmalyala/static/notebook/js/main.min.js?v=1c2abb797e9945d6ce7d58ae051fe985:30167:30)\n    at Object.final_actions.(anonymous function).handler (https://athena.brynmawr.edu/jupyter/user/pmalyala/static/notebook/js/main.min.js?v=1c2abb797e9945d6ce7d58ae051fe985:30673:25)\n    at ActionHandler.call (https://athena.brynmawr.edu/jupyter/user/pmalyala/static/notebook/js/main.min.js?v=1c2abb797e9945d6ce7d58ae051fe985:30775:36)\n    at ShortcutManager.call_handler (https://athena.brynmawr.edu/jupyter/user/pmalyala/static/notebook/js/main.min.js?v=1c2abb797e9945d6ce7d58ae051fe985:19785:33)\n    at KeyboardManager.handle_keydown (https://athena.brynmawr.edu/jupyter/user/pmalyala/static/notebook/js/main.min.js?v=1c2abb797e9945d6ce7d58ae051fe985:30954:40)\n    at HTMLDocument.<anonymous> (https://athena.brynmawr.edu/jupyter/user/pmalyala/static/notebook/js/main.min.js?v=1c2abb797e9945d6ce7d58ae051fe985:30920:25)"
     ]
    }
   ],
   "source": [
    "person.lastName;"
   ]
  },
  {
   "cell_type": "markdown",
   "metadata": {},
   "source": [
    "<!Doctype html>\n",
    "<html>\n",
    "<style>"
   ]
  },
  {
   "cell_type": "markdown",
   "metadata": {},
   "source": [
    "</style>\n",
    "<body>\n",
    "\n",
    "<h1>My First JavaScript Animation</h1>\n",
    "\n",
    "<div id=\"myContainer\">\n",
    "<div id=\"myAnimation\"></div>\n",
    "</div>\n",
    "\n",
    "</body>\n",
    "</html>"
   ]
  },
  {
   "cell_type": "code",
   "execution_count": null,
   "metadata": {
    "collapsed": true
   },
   "outputs": [],
   "source": [
    "#myContainer {\n",
    "  width: 400px;\n",
    "  height: 400px;\n",
    "  position: relative;\n",
    "  background: yellow;\n",
    "}\n",
    "#myAnimation {\n",
    "  width: 50px;\n",
    "  height: 50px;\n",
    "  position: absolute;\n",
    "  background: red;\n",
    "}"
   ]
  },
  {
   "cell_type": "markdown",
   "metadata": {},
   "source": [
    "http://www.w3schools.com/howto/howto_js_animate.asp"
   ]
  },
  {
   "cell_type": "markdown",
   "metadata": {},
   "source": [
    "<style>\n",
    "\n",
    "#myContainer {\n",
    "  width: 400px;\n",
    "  height: 400px;\n",
    "  position: relative;\n",
    "  background: yellow;\n",
    "}\n",
    "#myAnimation {\n",
    "  width: 50px;\n",
    "  height: 50px;\n",
    "  position: absolute;\n",
    "  background: red;\n",
    "}\n",
    "\n",
    "</style>\n",
    "\n",
    "<div id=\"myContainer\">\n",
    "<div id=\"myAnimation\"></div>\n",
    "</div>"
   ]
  },
  {
   "cell_type": "markdown",
   "metadata": {},
   "source": [
    "function draw() {\n",
    "  var canvas = document.getElementById('canvas');\n",
    "  if (canvas.getContext) {\n",
    "    var ctx = canvas.getContext('2d');\n",
    "\n",
    "    ctx.fillRect(25,25,100,100);\n",
    "    ctx.clearRect(45,45,60,60);\n",
    "    ctx.strokeRect(50,50,50,50);\n",
    "  }\n",
    "}"
   ]
  },
  {
   "cell_type": "code",
   "execution_count": 24,
   "metadata": {
    "collapsed": true
   },
   "outputs": [],
   "source": [
    "// This example creates a 2-pixel-wide red polyline showing the path of William\n",
    "// Kingsford Smith's first trans-Pacific flight between Oakland, CA, and\n",
    "// Brisbane, Australia.\n",
    "\n",
    "function initMap() {\n",
    "  var map = new google.maps.Map(document.getElementById('map'), {\n",
    "    zoom: 3,\n",
    "    center: {lat: 0, lng: -180},\n",
    "    mapTypeId: google.maps.MapTypeId.TERRAIN\n",
    "  });\n",
    "\n",
    "  var flightPlanCoordinates = [\n",
    "    {lat: 37.772, lng: -122.214},\n",
    "    {lat: 21.291, lng: -157.821},\n",
    "    {lat: -18.142, lng: 178.431},\n",
    "    {lat: -27.467, lng: 153.027}\n",
    "  ];\n",
    "  var flightPath = new google.maps.Polyline({\n",
    "    path: flightPlanCoordinates,\n",
    "    geodesic: true,\n",
    "    strokeColor: '#FF0000',\n",
    "    strokeOpacity: 1.0,\n",
    "    strokeWeight: 2\n",
    "  });\n",
    "\n",
    "  flightPath.setMap(map);\n",
    "}"
   ]
  },
  {
   "cell_type": "markdown",
   "metadata": {},
   "source": [
    "http://fabricjs.com/"
   ]
  },
  {
   "cell_type": "code",
   "execution_count": 25,
   "metadata": {
    "collapsed": false
   },
   "outputs": [
    {
     "ename": "ReferenceError",
     "evalue": "fabric is not defined",
     "output_type": "error",
     "traceback": [
      "ReferenceError: fabric is not defined\n    at eval (eval at <anonymous> (https://athena.brynmawr.edu/jupyter/user/pmalyala/kernelspecs/jskernel/kernel.js?v=20160613104332:53:22), <anonymous>:2:36)\n    at eval (eval at <anonymous> (https://athena.brynmawr.edu/jupyter/user/pmalyala/kernelspecs/jskernel/kernel.js?v=20160613104332:53:22), <anonymous>:22:3)\n    at execute (https://athena.brynmawr.edu/jupyter/user/pmalyala/kernelspecs/jskernel/kernel.js?v=20160613104332:53:17)\n    at CodeCell.execute (https://athena.brynmawr.edu/jupyter/user/pmalyala/static/notebook/js/main.min.js?v=1c2abb797e9945d6ce7d58ae051fe985:21675:40)\n    at Notebook.execute_cell_and_select_below (https://athena.brynmawr.edu/jupyter/user/pmalyala/static/notebook/js/main.min.js?v=1c2abb797e9945d6ce7d58ae051fe985:27190:18)\n    at _actions.run-cell-and-select-next.handler (https://athena.brynmawr.edu/jupyter/user/pmalyala/static/notebook/js/main.min.js?v=1c2abb797e9945d6ce7d58ae051fe985:30167:30)\n    at Object.final_actions.(anonymous function).handler (https://athena.brynmawr.edu/jupyter/user/pmalyala/static/notebook/js/main.min.js?v=1c2abb797e9945d6ce7d58ae051fe985:30673:25)\n    at ActionHandler.call (https://athena.brynmawr.edu/jupyter/user/pmalyala/static/notebook/js/main.min.js?v=1c2abb797e9945d6ce7d58ae051fe985:30775:36)\n    at ShortcutManager.call_handler (https://athena.brynmawr.edu/jupyter/user/pmalyala/static/notebook/js/main.min.js?v=1c2abb797e9945d6ce7d58ae051fe985:19785:33)\n    at KeyboardManager.handle_keydown (https://athena.brynmawr.edu/jupyter/user/pmalyala/static/notebook/js/main.min.js?v=1c2abb797e9945d6ce7d58ae051fe985:30954:40)"
     ]
    }
   ],
   "source": [
    "(function() {\n",
    "  var canvas = this.__canvas = new StaticCanvas('c');\n",
    "\n",
    "  canvas.add(\n",
    "    new fabric.Rect({ top: 100, left: 100, width: 50, height: 50, fill: '#f55' }),\n",
    "    new fabric.Circle({ top: 140, left: 230, radius: 75, fill: 'green' }),\n",
    "    new fabric.Triangle({ top: 300, left: 210, width: 100, height: 100, fill: 'blue' })\n",
    "  );\n",
    "\n",
    "  fabric.Image.fromURL('../lib/pug.jpg', function(img) {\n",
    "    canvas.add(img.set({ left: 400, top: 350, angle: 30 }).scale(0.25));\n",
    "  });\n",
    "\n",
    "  function animate() {\n",
    "    canvas.item(0).animate('top', canvas.item(0).getTop() === 500 ? '100' : '500', { \n",
    "      duration: 1000,\n",
    "      onChange: canvas.renderAll.bind(canvas),\n",
    "      onComplete: animate\n",
    "    });\n",
    "  }\n",
    "  animate();\n",
    "})();"
   ]
  },
  {
   "cell_type": "markdown",
   "metadata": {},
   "source": [
    "<!DOCTYPE html>\n",
    "<html>\n",
    "<body>\n",
    "\n",
    "<canvas id=\"myCanvas\" width=\"300\" height=\"150\" style=\"border:1px solid #d3d3d3;\">\n",
    "Your browser does not support the HTML5 canvas tag.</canvas>\n",
    "\n",
    "<script>\n",
    "\n",
    "var c = document.getElementById(\"myCanvas\");\n",
    "var ctx = c.getContext(\"2d\");\n",
    "var img = document.createElement(\"img\");\n",
    "ctx.beginPath();\n",
    "ctx.arc(100, 75, 50, 0, 2 * Math.PI);\n",
    "ctx.stroke();\n",
    "ctx.fillRect(25,25,100,100);\n",
    "ctx.clearRect(45,45,60,60);\n",
    "ctx.strokeRect(50,50,50,50);\n",
    "img.src = \"img/hat.png\";\n",
    "img.addEventListener(\"load\", function() {\n",
    "for (var x = 10; x < 200; x += 30)\n",
    "cx.drawImage(img, x, 10);\n",
    "});\n",
    "\n",
    "</script>\n",
    "\n",
    "</body>\n",
    "</html>\n",
    "\n",
    "http://www.w3schools.com/tags/tryit.asp?filename=tryhtml5_canvas_arc\n",
    "https://developer.mozilla.org/en-US/docs/Web/API/Canvas_API/Tutorial/Drawing_shapes\n",
    "http://eloquentjavascript.net/16_canvas.html"
   ]
  },
  {
   "cell_type": "code",
   "execution_count": null,
   "metadata": {
    "collapsed": true
   },
   "outputs": [],
   "source": []
  }
 ],
 "metadata": {
  "kernelspec": {
   "display_name": "Javascript",
   "language": "",
   "name": "jskernel"
  },
  "language_info": {
   "file_extension": ".js",
   "mimetype": "text/javascript",
   "name": "javascript"
  },
  "widgets": {
   "state": {},
   "version": "1.1.2"
  }
 },
 "nbformat": 4,
 "nbformat_minor": 0
}
