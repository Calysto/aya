{
 "cells": [
  {
   "cell_type": "code",
   "execution_count": 22,
   "metadata": {
    "collapsed": false
   },
   "outputs": [
    {
     "name": "stdout",
     "output_type": "stream",
     "text": [
      "\n",
      "\n",
      "\n",
      "\n",
      "\n",
      "\n",
      "\n",
      "\n",
      "\n",
      "\n",
      "\n",
      "\n",
      "\n",
      "\n"
     ]
    }
   ],
   "source": [
    "//student variable data structures\n",
    "//node carries data and next\n",
    "//final pointing to null\n",
    "//no limited #\n",
    "//can get to an array instantly in constant time\n",
    "//big O of (1)\n",
    "//head = start\n",
    "//O(n) linked list - any # of elements inc 0\n",
    "//aray has a maximum # of elements\n",
    "//base case for recursive function\n",
    "//let it append the node\n",
    "//loop thru all until base case is true\n",
    "//can't say x.y if x is null\n",
    "class Node {\n",
    "    String data;\n",
    "    Node next;\n",
    "    \n",
    "    Node(String data) {\n",
    "            this.data = data;\n",
    "    }\n",
    "    \n",
    "    void append(Node node) {\n",
    "        if (next == null) {\n",
    "            next = node;\n",
    "        } else {\n",
    "            next.append(node);\n",
    "        }\n",
    "    }\n",
    "    \n",
    "    int length() {\n",
    "        if (next == null) {\n",
    "            \n",
    "        }\n",
    "    }\n",
    "}"
   ]
  },
  {
   "cell_type": "code",
   "execution_count": 16,
   "metadata": {
    "collapsed": false
   },
   "outputs": [
    {
     "name": "stdout",
     "output_type": "stream",
     "text": [
      "|  Modified variable head of type Node with initial value Node@2be94b0f\n",
      "\n"
     ]
    }
   ],
   "source": [
    "Node head = new Node(\"Miley\");"
   ]
  },
  {
   "cell_type": "code",
   "execution_count": 4,
   "metadata": {
    "collapsed": false
   },
   "outputs": [
    {
     "name": "stdout",
     "output_type": "stream",
     "text": [
      " head\n",
      "|  Variable head of type Node has value Node@44e81672\n",
      "\n"
     ]
    },
    {
     "data": {
      "text/plain": [
       "Node@44e81672"
      ]
     },
     "execution_count": 4,
     "metadata": {},
     "output_type": "execute_result"
    }
   ],
   "source": [
    "head "
   ]
  },
  {
   "cell_type": "code",
   "execution_count": 5,
   "metadata": {
    "collapsed": false
   },
   "outputs": [
    {
     "name": "stdout",
     "output_type": "stream",
     "text": [
      "|  Expression value is: \"Miley\"\n",
      "|    assigned to temporary variable $4 of type String\n",
      "\n"
     ]
    },
    {
     "data": {
      "text/plain": [
       "Miley"
      ]
     },
     "execution_count": 5,
     "metadata": {},
     "output_type": "execute_result"
    }
   ],
   "source": [
    "head.data"
   ]
  },
  {
   "cell_type": "code",
   "execution_count": 6,
   "metadata": {
    "collapsed": false
   },
   "outputs": [
    {
     "name": "stdout",
     "output_type": "stream",
     "text": [
      "|  Expression value is: null\n",
      "|    assigned to temporary variable $5 of type Node\n",
      "\n"
     ]
    },
    {
     "data": {
      "text/plain": [
       "null"
      ]
     },
     "execution_count": 6,
     "metadata": {},
     "output_type": "execute_result"
    }
   ],
   "source": [
    "head.next"
   ]
  },
  {
   "cell_type": "code",
   "execution_count": 23,
   "metadata": {
    "collapsed": false
   },
   "outputs": [
    {
     "name": "stdout",
     "output_type": "stream",
     "text": [
      "\n"
     ]
    }
   ],
   "source": [
    "head.append(new Node(\"Taylor\"));"
   ]
  },
  {
   "cell_type": "code",
   "execution_count": 25,
   "metadata": {
    "collapsed": false
   },
   "outputs": [
    {
     "name": "stdout",
     "output_type": "stream",
     "text": [
      "|  Expression value is: \"Taylor\"\n",
      "|    assigned to temporary variable $16 of type String\n",
      "\n"
     ]
    },
    {
     "data": {
      "text/plain": [
       "Taylor"
      ]
     },
     "execution_count": 25,
     "metadata": {},
     "output_type": "execute_result"
    }
   ],
   "source": [
    "head.next.data"
   ]
  },
  {
   "cell_type": "code",
   "execution_count": 28,
   "metadata": {
    "collapsed": false
   },
   "outputs": [
    {
     "name": "stdout",
     "output_type": "stream",
     "text": [
      "\n",
      "\n",
      "\n",
      "\n",
      "|  Added variable kevin of type Node with initial value Node@629f0666\n",
      "\n",
      "\n"
     ]
    }
   ],
   "source": [
    "head.append(new Node(\"Kevin\"));\n",
    "\n",
    "//or\n",
    "\n",
    "Node kevin = new Node(\"Kevin\");\n",
    "head.append(kevin);"
   ]
  },
  {
   "cell_type": "code",
   "execution_count": 27,
   "metadata": {
    "collapsed": false
   },
   "outputs": [
    {
     "name": "stdout",
     "output_type": "stream",
     "text": [
      "\n"
     ]
    }
   ],
   "source": [
    "head.append(new Node(\"Louis\"));"
   ]
  },
  {
   "cell_type": "code",
   "execution_count": 29,
   "metadata": {
    "collapsed": false
   },
   "outputs": [
    {
     "name": "stdout",
     "output_type": "stream",
     "text": [
      "|  Expression value is: \"Louis\"\n",
      "|    assigned to temporary variable $21 of type String\n",
      "\n"
     ]
    },
    {
     "data": {
      "text/plain": [
       "Louis"
      ]
     },
     "execution_count": 29,
     "metadata": {},
     "output_type": "execute_result"
    }
   ],
   "source": [
    "head.next.next.next.data"
   ]
  },
  {
   "cell_type": "code",
   "execution_count": null,
   "metadata": {
    "collapsed": true
   },
   "outputs": [],
   "source": [
    "//how many elements are in the linked list\n",
    "//similiar to append\n",
    "//return integer"
   ]
  }
 ],
 "metadata": {
  "kernelspec": {
   "display_name": "Java 9",
   "language": "java",
   "name": "java9"
  },
  "language_info": {
   "file_extension": ".class",
   "mimetype": "application/java-vm",
   "name": "java"
  }
 },
 "nbformat": 4,
 "nbformat_minor": 0
}
