{
 "cells": [
  {
   "cell_type": "markdown",
   "metadata": {},
   "source": [
    "markups may change\n",
    "cheerio is a module that provides jquery manipulation of webpages\n",
    "load html into cheerio\n",
    "request is all purpose http module\n",
    "use the console\n",
    "hover over elements and it should show and if you click it should show you where it is in the dom\n",
    "context that has all the classes in it\n",
    "they all had class titles, so find those links\n",
    "href is link to img url\n",
    "open terminal cd to directory 'node/tuts/scraping'\n",
    "then run node scraping.js\n",
    "install cheerio, request\n",
    "npm install request cheerio\n",
    "then do node scraping.js\n",
    "all urls from front pg"
   ]
  },
  {
   "cell_type": "code",
   "execution_count": 2,
   "metadata": {
    "collapsed": false
   },
   "outputs": [
    {
     "ename": "Error",
     "evalue": "Module name \"request\" has not been loaded yet for context: _. Use require([])\nhttp://requirejs.org/docs/errors.html#notloaded",
     "output_type": "error",
     "traceback": [
      "makeError@https://athena.brynmawr.edu/jupyter/user/pmalyala/static/components/requirejs/require.js?v=6da8be361b9ee26c5e721e76c6d4afce:165:17\nlocalRequire@https://athena.brynmawr.edu/jupyter/user/pmalyala/static/components/requirejs/require.js?v=6da8be361b9ee26c5e721e76c6d4afce:1429:44\nrequirejs@https://athena.brynmawr.edu/jupyter/user/pmalyala/static/components/requirejs/require.js?v=6da8be361b9ee26c5e721e76c6d4afce:1791:16\n@https://athena.brynmawr.edu/jupyter/user/pmalyala/kernelspecs/jskernel/kernel.js?v=20160712094944 line 53 > eval:1:15\nexecute@https://athena.brynmawr.edu/jupyter/user/pmalyala/kernelspecs/jskernel/kernel.js?v=20160712094944:53:17\nCodeCell.prototype.execute@https://athena.brynmawr.edu/jupyter/user/pmalyala/static/notebook/js/main.min.js?v=1c2abb797e9945d6ce7d58ae051fe985:21675:28\nNotebook.prototype.execute_cell_and_select_below@https://athena.brynmawr.edu/jupyter/user/pmalyala/static/notebook/js/main.min.js?v=1c2abb797e9945d6ce7d58ae051fe985:27190:13\n_actions[\"run-cell-and-select-next\"].handler@https://athena.brynmawr.edu/jupyter/user/pmalyala/static/notebook/js/main.min.js?v=1c2abb797e9945d6ce7d58ae051fe985:30167:17\n@https://athena.brynmawr.edu/jupyter/user/pmalyala/static/notebook/js/main.min.js?v=1c2abb797e9945d6ce7d58ae051fe985:30673:25\nActionHandler.prototype.call@https://athena.brynmawr.edu/jupyter/user/pmalyala/static/notebook/js/main.min.js?v=1c2abb797e9945d6ce7d58ae051fe985:30775:16\nShortcutManager.prototype.call_handler@https://athena.brynmawr.edu/jupyter/user/pmalyala/static/notebook/js/main.min.js?v=1c2abb797e9945d6ce7d58ae051fe985:19785:1\nKeyboardManager.prototype.handle_keydown@https://athena.brynmawr.edu/jupyter/user/pmalyala/static/notebook/js/main.min.js?v=1c2abb797e9945d6ce7d58ae051fe985:30954:20\nKeyboardManager.prototype.bind_events/<@https://athena.brynmawr.edu/jupyter/user/pmalyala/static/notebook/js/main.min.js?v=1c2abb797e9945d6ce7d58ae051fe985:30920:20\nx.event.dispatch@https://athena.brynmawr.edu/jupyter/user/pmalyala/static/notebook/js/main.min.js?v=1c2abb797e9945d6ce7d58ae051fe985:88:9954\nx.event.add/y.handle@https://athena.brynmawr.edu/jupyter/user/pmalyala/static/notebook/js/main.min.js?v=1c2abb797e9945d6ce7d58ae051fe985:88:6772\n"
     ]
    }
   ],
   "source": [
    "var request = require('request'),\n",
    "    //cheerio = require('cheerio'),\n",
    "    urls = [];\n",
    "    \n",
    "request('https://www.reddit.com/', function(err, resp, body) {\n",
    "    if(!err && resp.statusCode == 200){\n",
    "        //var $ = .load(body);\n",
    "        //$('a.title', '#siteTable').each(function(){\n",
    "            //var url = this.attr('href');\n",
    "            //urls.push(url);\n",
    "        //});\n",
    "        \n",
    "        //console.log(urls);\n",
    "    }\n",
    "});"
   ]
  },
  {
   "cell_type": "code",
   "execution_count": null,
   "metadata": {
    "collapsed": true
   },
   "outputs": [],
   "source": []
  }
 ],
 "metadata": {
  "kernelspec": {
   "display_name": "Javascript",
   "language": "",
   "name": "jskernel"
  },
  "language_info": {
   "file_extension": ".js",
   "mimetype": "text/javascript",
   "name": "javascript"
  },
  "widgets": {
   "state": {},
   "version": "1.1.2"
  }
 },
 "nbformat": 4,
 "nbformat_minor": 0
}
