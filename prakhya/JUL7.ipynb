{
 "cells": [
  {
   "cell_type": "markdown",
   "metadata": {},
   "source": [
    "//error happening in animation loop student couldn't see"
   ]
  },
  {
   "cell_type": "markdown",
   "metadata": {},
   "source": [
    "let's look at error messages and see what else is possible with enabling ECMA6"
   ]
  },
  {
   "cell_type": "markdown",
   "metadata": {},
   "source": [
    "JS ERRORS:\n",
    "* try statement: test a block of code for errors (define this block of code while it's being executed)\n",
    "\n",
    "* catch statement: you handle the error.\n",
    "\n",
    "* throw statement: you create custom errors.\n",
    "\n",
    "* finally statement: execute code, after try and catch, regardless of the result.\n",
    "\n"
   ]
  },
  {
   "cell_type": "markdown",
   "metadata": {},
   "source": [
    "if you made a typo in the code (in the try block).\n",
    "\n",
    "The catch block catches the error, and executes code to handle it.\n",
    "try and catch pair:"
   ]
  },
  {
   "cell_type": "code",
   "execution_count": null,
   "metadata": {
    "collapsed": true
   },
   "outputs": [],
   "source": [
    "try {\n",
    "    Block of code to try\n",
    "}\n",
    "catch(err) {\n",
    "    Block of code to handle errors\n",
    "}"
   ]
  },
  {
   "cell_type": "markdown",
   "metadata": {},
   "source": [
    "raise/throw an exception = js error message"
   ]
  },
  {
   "cell_type": "markdown",
   "metadata": {},
   "source": [
    "You can raise throw exception with string, boolean, object\n",
    "\n",
    "Using throw with try and catch, control program flow and make custom error messages"
   ]
  },
  {
   "cell_type": "markdown",
   "metadata": {},
   "source": [
    "exception (err) caught by the catch statement"
   ]
  },
  {
   "cell_type": "markdown",
   "metadata": {},
   "source": [
    "Modern browsers will mix JavaScript and built-in HTML validation, using predefined validation rules defined in HTML attributes"
   ]
  },
  {
   "cell_type": "markdown",
   "metadata": {},
   "source": [
    "The finally statement executes code, after try and catch, doesn't matter the result"
   ]
  },
  {
   "cell_type": "code",
   "execution_count": null,
   "metadata": {
    "collapsed": true
   },
   "outputs": [],
   "source": [
    "try {\n",
    "    Block of code to try\n",
    "}\n",
    "catch(err) {\n",
    "    Block of code to handle errors\n",
    "} \n",
    "finally {\n",
    "    Block of code to be executed regardless of the try / catch result\n",
    "}"
   ]
  },
  {
   "cell_type": "markdown",
   "metadata": {},
   "source": [
    "https://www.typescriptlang.org/docs/release-notes/typescript-1.8.html\n",
    "https://developer.mozilla.org/en-US/docs/Web/JavaScript/Reference/Global_Objects/Error\n",
    "http://stackoverflow.com/questions/31089801/extending-error-in-javascript-with-es6-syntax\n",
    "http://www.w3schools.com/js/js_errors.asp"
   ]
  },
  {
   "cell_type": "code",
   "execution_count": null,
   "metadata": {
    "collapsed": true
   },
   "outputs": [],
   "source": []
  }
 ],
 "metadata": {
  "kernelspec": {
   "display_name": "Javascript",
   "language": "",
   "name": "jskernel"
  },
  "widgets": {
   "state": {},
   "version": "1.1.2"
  }
 },
 "nbformat": 4,
 "nbformat_minor": 0
}
