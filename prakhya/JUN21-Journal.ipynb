{
 "cells": [
  {
   "cell_type": "markdown",
   "metadata": {},
   "source": [
    "*Decided to make shapes, animation, virtual realities using JS\n",
    "\n",
    "*TS/JS would be tricky to download and defeat the purpose of working within the browser\n",
    "\n",
    "*Also trying to explain the differences and what TS is in a notebook while animating with JS"
   ]
  },
  {
   "cell_type": "markdown",
   "metadata": {},
   "source": [
    "trying all the animations from eloquentJS\n"
   ]
  },
  {
   "cell_type": "markdown",
   "metadata": {},
   "source": [
    "pie chart code:\n",
    "\n",
    "var results = [\n",
    "   {name: \"Satisfied\", count: 1043, color: \"lightblue\"},\n",
    "   {name: \"Neutral\", count: 563, color: \"lightgreen\"},\n",
    "   {name: \"Unsatisfied\", count: 510, color: \"pink\"},\n",
    "   {name: \"No comment\", count: 175, color: \"silver\"}\n",
    "  ];\n",
    "  var cx = document.querySelector(\"canvas\").getContext(\"2d\");\n",
    "  var total = results.reduce(function(sum, choice) {\n",
    "    return sum + choice.count;\n",
    "  }, 0);\n",
    "  // Start at the top\n",
    "  var currentAngle = -0.5 * Math.PI;\n",
    "  results.forEach(function(result) {\n",
    "    var sliceAngle = (result.count / total) * 2 * Math.PI;\n",
    "    cx.beginPath();\n",
    "    // center=100,100, radius=100\n",
    "    // from current angle, clockwise by slice's angle\n",
    "    cx.arc(100, 100, 100,\n",
    "           currentAngle, currentAngle + sliceAngle);\n",
    "    currentAngle += sliceAngle;\n",
    "    cx.lineTo(100, 100);\n",
    "    cx.fillStyle = result.color;\n",
    "    cx.fill();\n",
    "  });"
   ]
  },
  {
   "cell_type": "markdown",
   "metadata": {},
   "source": [
    " var cx = document.querySelector(\"canvas\").getContext(\"2d\");\n",
    "  cx.font = \"28px Georgia\";\n",
    "  cx.fillStyle = \"fuchsia\";\n",
    "  cx.fillText(\"I can draw text, too!\", 10, 50);"
   ]
  },
  {
   "cell_type": "markdown",
   "metadata": {},
   "source": [
    "  image insertion code not working\n",
    "  var cx = document.querySelector(\"canvas\").getContext(\"2d\");\n",
    "  var img = document.createElement(\"img\");\n",
    "  img.src = \"img/player_big(1).png\";\n",
    "  img.addEventListener(\"load\", function() {\n",
    "    for (var x = 10; x < 200; x += 30)\n",
    "      cx.drawImage(img, x, 10);\n",
    "  });\n",
    " "
   ]
  },
  {
   "cell_type": "markdown",
   "metadata": {},
   "source": [
    " //scales the canvas and it's way of drawing\n",
    "  var cx = document.querySelector(\"canvas\").getContext(\"2d\");\n",
    "  cx.scale(3, .5);\n",
    "  cx.beginPath();\n",
    "  cx.arc(50, 50, 40, 0, 7);\n",
    "  cx.lineWidth = 3;\n",
    "  cx.stroke();"
   ]
  },
  {
   "cell_type": "markdown",
   "metadata": {},
   "source": [
    "game code not working"
   ]
  },
  {
   "cell_type": "markdown",
   "metadata": {},
   "source": [
    "save and restore methods:\n"
   ]
  },
  {
   "cell_type": "markdown",
   "metadata": {},
   "source": [
    "  var cx = document.querySelector(\"canvas\").getContext(\"2d\");\n",
    "  function branch(length, angle, scale) {\n",
    "    cx.fillRect(0, 0, 1, length);\n",
    "    if (length < 8) return;\n",
    "    cx.save();\n",
    "    cx.translate(0, length);\n",
    "    cx.rotate(-angle);\n",
    "    branch(length * scale, angle, scale);\n",
    "    cx.rotate(2 * angle);\n",
    "    branch(length * scale, angle, scale);\n",
    "    cx.restore();\n",
    "  }\n",
    "  cx.translate(300, 0);\n",
    "  branch(60, 0.5, 0.8);"
   ]
  },
  {
   "cell_type": "markdown",
   "metadata": {},
   "source": [
    "*add and revert transformations\n",
    "\n"
   ]
  },
  {
   "cell_type": "markdown",
   "metadata": {},
   "source": [
    "    for(var i=0;i<8;i++){\n",
    "      ctx.fillRect(51+i*16,35,4,4);\n",
    "    }\n",
    "\n",
    "    for(i=0;i<6;i++){\n",
    "      ctx.fillRect(115,51+i*16,4,4);\n",
    "    }\n",
    "\n",
    "    for(i=0;i<8;i++){\n",
    "      ctx.fillRect(51+i*16,99,4,4);\n",
    "    }\n",
    "\n",
    "function roundedRect(ctx,x,y,width,height,radius){\n",
    "  ctx.beginPath();\n",
    "  ctx.moveTo(x,y+radius);\n",
    "  ctx.lineTo(x,y+height-radius);\n",
    "  ctx.arcTo(x,y+height,x+radius,y+height,radius);\n",
    "  ctx.lineTo(x+width-radius,y+height);\n",
    "  ctx.arcTo(x+width,y+height,x+width,y+height-radius,radius);\n",
    "  ctx.lineTo(x+width,y+radius);\n",
    "  ctx.arcTo(x+width,y,x+width-radius,y,radius);\n",
    "  ctx.lineTo(x+radius,y);\n",
    "  ctx.arcTo(x,y,x,y+radius,radius);\n",
    "  ctx.stroke();\n",
    "}"
   ]
  },
  {
   "cell_type": "markdown",
   "metadata": {},
   "source": [
    "  cx.roundRect(12,12,150,150,15);\n",
    "  cx.roundRect(19,19,150,150,9);\n",
    "  cx.roundRect(53,53,49,33,10);\n",
    "  cx.roundRect(53,119,49,16,6);\n",
    "  cx.roundRect(135,53,49,33,10);\n",
    "  cx.roundRect(135,119,25,49,10);\n",
    "  not working, also tried rounding"
   ]
  },
  {
   "cell_type": "markdown",
   "metadata": {},
   "source": [
    "function roundedRect(ctx,x,y,width,height,radius){\n",
    "  ctx.beginPath();\n",
    "  ctx.moveTo(x,y+radius);\n",
    "  ctx.lineTo(x,y+height-radius);\n",
    "  ctx.arcTo(x,y+height,x+radius,y+height,radius);\n",
    "  ctx.lineTo(x+width-radius,y+height);\n",
    "  ctx.arcTo(x+width,y+height,x+width,y+height-radius,radius);\n",
    "  ctx.lineTo(x+width,y+radius);\n",
    "  ctx.arcTo(x+width,y,x+width-radius,y,radius);\n",
    "  ctx.lineTo(x+radius,y);\n",
    "  ctx.arcTo(x,y,x,y+radius,radius);\n",
    "  ctx.stroke();\n",
    "}\n",
    "\n",
    "* not working"
   ]
  },
  {
   "cell_type": "markdown",
   "metadata": {},
   "source": [
    "*pacman code:\n",
    "\n",
    "-"
   ]
  },
  {
   "cell_type": "markdown",
   "metadata": {},
   "source": [
    "'moving ball' velocity animation not working"
   ]
  },
  {
   "cell_type": "markdown",
   "metadata": {
    "collapsed": true
   },
   "source": [
    "moving animation not working in editor but perhaps will work in notebook?"
   ]
  },
  {
   "cell_type": "code",
   "execution_count": null,
   "metadata": {
    "collapsed": true
   },
   "outputs": [],
   "source": []
  }
 ],
 "metadata": {
  "kernelspec": {
   "display_name": "Javascript",
   "language": "",
   "name": "jskernel"
  },
  "language_info": {
   "file_extension": ".js",
   "mimetype": "text/javascript",
   "name": "javascript"
  },
  "widgets": {
   "state": {},
   "version": "1.1.2"
  }
 },
 "nbformat": 4,
 "nbformat_minor": 0
}
