{
 "cells": [
  {
   "cell_type": "markdown",
   "metadata": {},
   "source": [
    "<canvas id=\"myCanvas\" width=\"300\" height=\"150\" style=\"border:1px solid #d3d3d3;\">\n",
    "Your browser does not support the HTML5 canvas tag.</canvas>"
   ]
  },
  {
   "cell_type": "code",
   "execution_count": 3,
   "metadata": {
    "collapsed": false
   },
   "outputs": [
    {
     "ename": "SyntaxError",
     "evalue": "Unexpected token }",
     "output_type": "error",
     "traceback": [
      "SyntaxError: Unexpected token }\n    at execute (https://athena.brynmawr.edu/jupyter/user/pmalyala/kernelspecs/jskernel/kernel.js?v=20160613104332:53:22)\n    at CodeCell.execute (https://athena.brynmawr.edu/jupyter/user/pmalyala/static/notebook/js/main.min.js?v=1c2abb797e9945d6ce7d58ae051fe985:21675:40)\n    at Notebook.execute_cell_and_select_below (https://athena.brynmawr.edu/jupyter/user/pmalyala/static/notebook/js/main.min.js?v=1c2abb797e9945d6ce7d58ae051fe985:27190:18)\n    at _actions.run-cell-and-select-next.handler (https://athena.brynmawr.edu/jupyter/user/pmalyala/static/notebook/js/main.min.js?v=1c2abb797e9945d6ce7d58ae051fe985:30167:30)\n    at Object.final_actions.(anonymous function).handler (https://athena.brynmawr.edu/jupyter/user/pmalyala/static/notebook/js/main.min.js?v=1c2abb797e9945d6ce7d58ae051fe985:30673:25)\n    at ActionHandler.call (https://athena.brynmawr.edu/jupyter/user/pmalyala/static/notebook/js/main.min.js?v=1c2abb797e9945d6ce7d58ae051fe985:30775:36)\n    at ShortcutManager.call_handler (https://athena.brynmawr.edu/jupyter/user/pmalyala/static/notebook/js/main.min.js?v=1c2abb797e9945d6ce7d58ae051fe985:19785:33)\n    at KeyboardManager.handle_keydown (https://athena.brynmawr.edu/jupyter/user/pmalyala/static/notebook/js/main.min.js?v=1c2abb797e9945d6ce7d58ae051fe985:30954:40)\n    at HTMLDocument.<anonymous> (https://athena.brynmawr.edu/jupyter/user/pmalyala/static/notebook/js/main.min.js?v=1c2abb797e9945d6ce7d58ae051fe985:30920:25)\n    at HTMLDocument.x.event.dispatch (https://athena.brynmawr.edu/jupyter/user/pmalyala/static/notebook/js/main.min.js?v=1c2abb797e9945d6ce7d58ae051fe985:88:10006)"
     ]
    }
   ],
   "source": [
    "var cx = document.getElementById('canvas').getContext('2d');\n",
    "\n",
    "\n",
    "\n",
    "  //var now = new Date();\n",
    "  cx.save();\n",
    "  cx.clearRect(0,0,150,150);\n",
    "  cx.translate(75,75);\n",
    "  cx.scale(0.4,0.4);\n",
    "  cx.rotate(-Math.PI/2);\n",
    "  cx.strokeStyle = \"black\";\n",
    "  cx.fillStyle = \"white\";\n",
    "  cx.lineWidth = 8;\n",
    "  cx.lineCap = \"round\";\n",
    "\n",
    "  // Hour marks\n",
    "  cx.save();\n",
    "  for (var i=0;i<12;i++){\n",
    "    cx.beginPath();\n",
    "    cx.rotate(Math.PI/6);\n",
    "    cx.moveTo(100,0);\n",
    "    cx.lineTo(120,0);\n",
    "    cx.stroke();\n",
    "  }\n",
    "  cx.restore();\n",
    "\n",
    "  // Minute marks\n",
    "  cx.save();\n",
    "  cx.lineWidth = 5;\n",
    "  for (i=0;i<60;i++){\n",
    "    if (i%5!=0) {\n",
    "      cx.beginPath();\n",
    "      cx.moveTo(117,0);\n",
    "      cx.lineTo(120,0);\n",
    "      cx.stroke();\n",
    "    }\n",
    "    cx.rotate(Math.PI/30);\n",
    "  }\n",
    "  cx.restore();\n",
    " \n",
    "  var sec = now.getSeconds();\n",
    "  var min = now.getMinutes();\n",
    "  var hr  = now.getHours();\n",
    "  hr = hr>=12 ? hr-12 : hr;\n",
    "\n",
    "  cx.fillStyle = \"black\";\n",
    "\n",
    "  // write Hours\n",
    "  cx.save();\n",
    "  cx.rotate( hr*(Math.PI/6) + (Math.PI/360)*min + (Math.PI/21600)*sec )\n",
    "  cx.lineWidth = 14;\n",
    "  cx.beginPath();\n",
    "  cx.moveTo(-20,0);\n",
    "  cx.lineTo(80,0);\n",
    "  cx.stroke();\n",
    "  cx.restore();\n",
    "\n",
    "  // write Minutes\n",
    "  cx.save();\n",
    "  cx.rotate( (Math.PI/30)*min + (Math.PI/1800)*sec )\n",
    "  cx.lineWidth = 10;\n",
    "  cx.beginPath();\n",
    "  cx.moveTo(-28,0);\n",
    "  cx.lineTo(112,0);\n",
    "  cx.stroke();\n",
    "  cx.restore();\n",
    " \n",
    "  // Write seconds\n",
    "  cx.save();\n",
    "  cx.rotate(sec * Math.PI/30);\n",
    "  cx.strokeStyle = \"#D40000\";\n",
    "  cx.fillStyle = \"#D40000\";\n",
    "  cx.lineWidth = 6;\n",
    "  cx.beginPath();\n",
    "  cx.moveTo(-30,0);\n",
    "  cx.lineTo(83,0);\n",
    "  cx.stroke();\n",
    "  cx.beginPath();\n",
    "  cx.arc(0,0,10,0,Math.PI*2,true);\n",
    "  cx.fill();\n",
    "  cx.beginPath();\n",
    "  cx.arc(95,0,10,0,Math.PI*2,true);\n",
    "  cx.stroke();\n",
    "  cx.fillStyle = \"rgba(0,0,0,0)\";\n",
    "  cx.arc(0,0,3,0,Math.PI*2,true);\n",
    "  cx.fill();\n",
    "  cx.restore();\n",
    "\n",
    "  cx.beginPath();\n",
    "  cx.lineWidth = 14;\n",
    "  cx.strokeStyle = '#325FA2';\n",
    "  cx.arc(0,0,142,0,Math.PI*2,true);\n",
    "  cx.stroke();\n",
    "\n",
    "  cx.restore();\n",
    "\n",
    "  window.requestAnimationFrame(clock);\n",
    "}\n",
    "\n",
    "window.requestAnimationFrame(clock);"
   ]
  },
  {
   "cell_type": "code",
   "execution_count": null,
   "metadata": {
    "collapsed": true
   },
   "outputs": [],
   "source": []
  }
 ],
 "metadata": {
  "kernelspec": {
   "display_name": "Javascript",
   "language": "",
   "name": "jskernel"
  },
  "language_info": {
   "file_extension": ".js",
   "mimetype": "text/javascript",
   "name": "javascript"
  },
  "widgets": {
   "state": {},
   "version": "1.1.2"
  }
 },
 "nbformat": 4,
 "nbformat_minor": 0
}
