{
 "cells": [
  {
   "cell_type": "markdown",
   "metadata": {},
   "source": [
    "coding robots in python?"
   ]
  },
  {
   "cell_type": "markdown",
   "metadata": {},
   "source": [
    "https://www.youtube.com/watch?v=LHi1B5K0atk\n",
    "function def\n",
    "\n",
    "make anything from the summer available on jupyter server\n",
    "\n",
    "learn basic python\n",
    "\n",
    "and then will be available to program on jupyter\n",
    "\n",
    "absolute\n",
    "\n",
    "betterthan equations\n",
    "\n",
    "abs - function\n",
    "\n",
    "print type\n",
    "\n",
    "use int, float, etc. to figure out type\n",
    "\n",
    "if s==\n",
    "\n",
    "indentation matters*\n",
    "\n",
    "[:] from the beginning all the way to the end\n",
    "\n",
    "def \n",
    "\n",
    "if\n",
    "\n",
    "elif\n",
    "\n",
    ">=\n",
    "*\n",
    "\n",
    "no semicolons at the end\n",
    "\n",
    "'_' naming convention\n",
    "\n",
    "lists are boxes([]) inside of boxes\n",
    "\n",
    "https://www.youtube.com/watch?v=N4mEzFDjqtA *"
   ]
  },
  {
   "cell_type": "markdown",
   "metadata": {},
   "source": [
    "http://quintagroup.com/cms/python/robot-framework\n",
    "http://robotframework.org/#documentation\n",
    "http://robotframework.org/robotframework/latest/RobotFrameworkUserGuide.html#introduction\n",
    "https://pypi.python.org/pypi/robotframework\n",
    "http://www.slideshare.net/pekkaklarck/robot-framework-introduction\n",
    "https://blog.codecentric.de/en/2012/03/robot-framework-tutorial-overview/"
   ]
  },
  {
   "cell_type": "markdown",
   "metadata": {
    "collapsed": true
   },
   "source": [
    "looping allows us to perform an action multiple times"
   ]
  }
 ],
 "metadata": {
  "kernelspec": {
   "display_name": "Javascript",
   "language": "",
   "name": "jskernel"
  },
  "language_info": {
   "file_extension": ".js",
   "mimetype": "text/javascript",
   "name": "javascript"
  },
  "widgets": {
   "state": {},
   "version": "1.1.2"
  }
 },
 "nbformat": 4,
 "nbformat_minor": 0
}
