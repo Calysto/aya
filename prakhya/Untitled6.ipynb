{
 "cells": [
  {
   "cell_type": "code",
   "execution_count": 1,
   "metadata": {
    "collapsed": false
   },
   "outputs": [
    {
     "name": "stdout",
     "output_type": "stream",
     "text": [
      "[FetchApp | INFO] Source: /opt/nbgrader/exchange/cs206/outbound/cs206-assignment01\r\n",
      "[FetchApp | INFO] Destination: /home/pmalyala/cs206-assignment01\r\n",
      "[FetchApp | INFO] Fetched as: cs206 cs206-assignment01\r\n",
      "\n"
     ]
    }
   ],
   "source": [
    "!nbgrader fetch --course \"cs206\" cs206-assignment01"
   ]
  },
  {
   "cell_type": "code",
   "execution_count": 2,
   "metadata": {
    "collapsed": true
   },
   "outputs": [],
   "source": [
    "! cp /tmp/cs206_nbgrader_config.py ~/nbgrader_config.py"
   ]
  },
  {
   "cell_type": "code",
   "execution_count": 1,
   "metadata": {
    "collapsed": false
   },
   "outputs": [
    {
     "name": "stdout",
     "output_type": "stream",
     "text": [
      "[ExtensionActivateApp | INFO] Activating create_assignment nbextension\r\n",
      "[ExtensionActivateApp | INFO] Activating assignment_list server extension\r\n",
      "[ExtensionActivateApp | INFO] Activating assignment_list nbextension\r\n",
      "[ExtensionActivateApp | INFO] Done. You may need to restart the Jupyter notebook server for changes to take effect.\r\n",
      "\n"
     ]
    }
   ],
   "source": [
    "! nbgrader extension activate"
   ]
  },
  {
   "cell_type": "code",
   "execution_count": null,
   "metadata": {
    "collapsed": true
   },
   "outputs": [],
   "source": []
  }
 ],
 "metadata": {
  "kernelspec": {
   "display_name": "Java 9",
   "language": "java",
   "name": "java9"
  },
  "language_info": {
   "file_extension": ".class",
   "mimetype": "application/java-vm",
   "name": "java"
  }
 },
 "nbformat": 4,
 "nbformat_minor": 0
}
