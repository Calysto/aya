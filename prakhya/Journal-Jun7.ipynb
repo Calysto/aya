{
 "cells": [
  {
   "cell_type": "markdown",
   "metadata": {},
   "source": [
    "Trying to draw using typescript\n"
   ]
  },
  {
   "cell_type": "markdown",
   "metadata": {},
   "source": [
    "I am working using tutorial videos made by Anders Hejlsberg himself.\n",
    "\n",
    "He discusses all the fast change happening in typescript in the past year, even if it isn't in javascript they can still slurp the types, you can write down the type definitions and it can give you experiences in the IDE.\n",
    "\n",
    "can even use without type declarations "
   ]
  },
  {
   "cell_type": "markdown",
   "metadata": {},
   "source": [
    "team meeting: writing a library to control all sensors, robot through one medium \n",
    "control all of it without actually having to touch them\n",
    "through whatever language we want to be writing in\n",
    "directly programming the edison, nao right now and want to use IP address to access all of its abilities \n",
    "building library of all the functions that everything is capable of \n",
    "lunchbreaks can be 1.5 hours or however long you need them to be"
   ]
  },
  {
   "cell_type": "markdown",
   "metadata": {},
   "source": [
    "completely hidden protocol you don't see on the user end when you're typing in programs, don't see it on the edison stuff\n",
    "makes the cool stuff removed from the hardware\n",
    "hardware just the hardware stuff\n",
    "html - what the urls, response, functioncalls look like?\n",
    "edison responds with XML, <XML, <DATA>42</DATA? ></XML>\n",
    "system has 3 parts: typescript and materials to learn it, figuring how to make a kernal, connecting it to the API framework\n",
    "\n",
    "write a program for the chess AI that senses the moves from the sensory chess board and then write a simulated program\n",
    "chessboard has to have a computer\n",
    "learning typescript, exploring it and working with jupyter and integrating it with AI/robotics research and for it fit into overall picture\n",
    "\n",
    "data structures in typescript? are there standard libraries? how would you use typescript instead of java? \n",
    "\n",
    "do the drawing parts in javascript because typescript is a syntax\n",
    "\n",
    "cutting edge, few people working on  it\n",
    "ECMAscript open source version of javascript\n",
    "ECMAscript6 done, then javascript will then include typescript (and classes with be included in JS)\n",
    "js kernel uses whatever your browser does\n",
    "ts doesn't work in notebook depending on browser"
   ]
  },
  {
   "cell_type": "markdown",
   "metadata": {},
   "source": [
    "ts infrastructure\n",
    "nullable \n",
    "primitive types i.e. number, string, boolean\n",
    "null, undefined -> valid value b/c it is always OK so certain things you can't check\n",
    "new types: null, undefined\n",
    "and with union put them together w/regular types\n",
    "GitHub, Stack Overflow, Definitely Typed"
   ]
  },
  {
   "cell_type": "code",
   "execution_count": null,
   "metadata": {
    "collapsed": true
   },
   "outputs": [],
   "source": []
  }
 ],
 "metadata": {
  "kernelspec": {
   "display_name": "Java 9",
   "language": "java",
   "name": "java9"
  },
  "language_info": {
   "file_extension": ".class",
   "mimetype": "application/java-vm",
   "name": "java"
  }
 },
 "nbformat": 4,
 "nbformat_minor": 0
}
