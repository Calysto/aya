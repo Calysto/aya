{
 "cells": [
  {
   "cell_type": "markdown",
   "metadata": {},
   "source": [
    "<canvas id=\"myCanvas\" width=\"200\" height=\"100\" style=\"border:1px solid #FF0000;\">\n",
    "</canvas>"
   ]
  },
  {
   "cell_type": "code",
   "execution_count": null,
   "metadata": {
    "collapsed": true
   },
   "outputs": [],
   "source": []
  }
 ],
 "metadata": {
  "kernelspec": {
   "display_name": "Javascript",
   "language": "",
   "name": "jskernel"
  }
 },
 "nbformat": 4,
 "nbformat_minor": 0
}
