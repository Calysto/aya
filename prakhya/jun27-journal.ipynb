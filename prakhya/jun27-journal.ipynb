{
 "cells": [
  {
   "cell_type": "markdown",
   "metadata": {},
   "source": [
    "journal-raytracing and typescript"
   ]
  },
  {
   "cell_type": "markdown",
   "metadata": {},
   "source": [
    "Typescript 1.8 can:\n",
    "constraint to reference type parameters from the same type parameter list. Previously this was an error. This capability is usually referred to as F-Bounded Polymorphism.\n",
    "\n",
    "control flow analysis to help catch common errors \n",
    "\n",
    "Statements guaranteed to not be executed at run time are now correctly flagged as unreachable code errors\n",
    "\n",
    "statements following unconditional return, throw, break or continue statements are considered unreachable. Use --allowUnreachableCode to disable unreachable code detection and reporting.\n",
    "\n",
    "Since JavaScript automatically terminates the return statement at the end of the line, the object literal becomes a block."
   ]
  },
  {
   "cell_type": "markdown",
   "metadata": {},
   "source": [
    "Just like unreachable code checks, these are turned on by default; use --allowUnusedLabels to stop reporting these errors.\n"
   ]
  },
  {
   "cell_type": "markdown",
   "metadata": {},
   "source": [
    "Turning notebooks into presentations \n",
    "and getting the output to be put in a certain location on jupyter"
   ]
  },
  {
   "cell_type": "markdown",
   "metadata": {},
   "source": [
    "read 3 articles on raytracing and doug said to use animation it would have to be repeatedly rotated"
   ]
  },
  {
   "cell_type": "markdown",
   "metadata": {},
   "source": [
    "http://chris.beams.io/posts/git-commit/"
   ]
  },
  {
   "cell_type": "markdown",
   "metadata": {},
   "source": [
    "Many open source projects on Github use pull requests to manage changes from contributors as they are useful in providing a way to notify project maintainers about changes one has made and in initiating code review and general discussion about a set of changes before being merged into the main branch."
   ]
  },
  {
   "cell_type": "markdown",
   "metadata": {},
   "source": [
    "var cx = document.querySelector(\"canvas\").getContext(\"2d\"); \n",
    "var raf;\n",
    "\n",
    "// function draw() {\n",
    "//   cx.clearRect(0,0, canvas.width, canvas.height);\n",
    "//   ball.draw();\n",
    "//   ball.x += ball.vx;\n",
    "//   ball.y += ball.vy;\n",
    "//   raf = window.requestAnimationFrame(draw);\n",
    "// }\n",
    "\n",
    "var ball = {\n",
    "  x: 100,\n",
    "  y: 100,\n",
    "//   vx: 5,\n",
    "//   vy: 2,\n",
    "  radius: 25,\n",
    "  color: 'blue',\n",
    "  draw: function() {\n",
    "    cx.beginPath();\n",
    "    cx.arc(this.x, this.y, this.radius, 0, Math.PI*2, true);\n",
    "    cx.closePath();\n",
    "    cx.fillStyle = this.color;\n",
    "    cx.fill();\n",
    "  }\n",
    "};\n",
    "\n",
    "\n",
    "// canvas.addEventListener('mouseover', function(e){\n",
    "//   raf = window.requestAnimationFrame(draw);\n",
    "// });\n",
    "\n",
    "// canvas.addEventListener(\"mouseout\",function(e){\n",
    "//   window.cancelAnimationFrame(raf);\n",
    "// });\n",
    "\n",
    "ball.draw();"
   ]
  },
  {
   "cell_type": "markdown",
   "metadata": {},
   "source": [
    "going to work on animation with js/ts, making my own repos for github, making ts notebooks"
   ]
  },
  {
   "cell_type": "code",
   "execution_count": null,
   "metadata": {
    "collapsed": true
   },
   "outputs": [],
   "source": []
  }
 ],
 "metadata": {
  "kernelspec": {
   "display_name": "Javascript",
   "language": "",
   "name": "jskernel"
  },
  "language_info": {
   "file_extension": ".js",
   "mimetype": "text/javascript",
   "name": "javascript"
  },
  "widgets": {
   "state": {},
   "version": "1.1.2"
  }
 },
 "nbformat": 4,
 "nbformat_minor": 0
}
