{
 "cells": [
  {
   "cell_type": "code",
   "execution_count": 1,
   "metadata": {
    "collapsed": false
   },
   "outputs": [
    {
     "data": {
      "text/plain": [
       "[object Object]"
      ]
     },
     "execution_count": 1,
     "metadata": {},
     "output_type": "execute_result"
    }
   ],
   "source": [
    "class Person {                                          // The 'class' keyword\n",
    "    constructor(name, age) {                            // Constructors\n",
    "        this.name = name;\n",
    "        this.age = age;\n",
    "    }\n",
    "}\n",
    "\n",
    "class Developer extends Person {                        // The 'extends' keyword\n",
    "    constructor(name, age, ...languages) {              // Rest parameters\n",
    "        super(name, age);                               // Super calls\n",
    "        this.languages = [...languages];                // The spread operator\n",
    "    }\n",
    "    printLanguages() {                                  // Short method definitions\n",
    "        for(let lang of this.languages) {               // The for..of loop\n",
    "            console.log(lang);\n",
    "        }\n",
    "    }\n",
    "}\n",
    "\n",
    "me = new Developer(\"James\", 23, \"ES5\", \"ES6\");     // Block scoping"
   ]
  },
  {
   "cell_type": "code",
   "execution_count": 2,
   "metadata": {
    "collapsed": false
   },
   "outputs": [
    {
     "data": {
      "text/plain": [
       "James"
      ]
     },
     "execution_count": 2,
     "metadata": {},
     "output_type": "execute_result"
    }
   ],
   "source": [
    "me.name"
   ]
  },
  {
   "cell_type": "markdown",
   "metadata": {},
   "source": [
    "https://www.sitepoint.com/understanding-ecmascript-6-class-inheritance/\n",
    "http://www.2ality.com/2015/02/es6-classes-final.html\n",
    "https://leanpub.com/understandinges6/read#leanpub-auto-functions-with-default-parameter-values"
   ]
  },
  {
   "cell_type": "code",
   "execution_count": null,
   "metadata": {
    "collapsed": true
   },
   "outputs": [],
   "source": []
  }
 ],
 "metadata": {
  "kernelspec": {
   "display_name": "Javascript",
   "language": "",
   "name": "jskernel"
  },
  "language_info": {
   "file_extension": ".js",
   "mimetype": "text/javascript",
   "name": "javascript"
  },
  "widgets": {
   "state": {},
   "version": "1.1.2"
  }
 },
 "nbformat": 4,
 "nbformat_minor": 0
}
