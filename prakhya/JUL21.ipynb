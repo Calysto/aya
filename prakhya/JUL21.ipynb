{
 "cells": [
  {
   "cell_type": "code",
   "execution_count": 1,
   "metadata": {
    "collapsed": true
   },
   "outputs": [],
   "source": [
    "function createPerson(firstName, lastName) {\n",
    "    return {\n",
    "    firstName,\n",
    "    lastName\n",
    "    }\n",
    "}"
   ]
  },
  {
   "cell_type": "code",
   "execution_count": 3,
   "metadata": {
    "collapsed": false
   },
   "outputs": [
    {
     "data": {
      "text/plain": [
       "class Song {\n",
       "  constructor(title, artist, duration) {\n",
       "    this.title = title;\n",
       "    this.artist = artist;\n",
       "    this.duration = duration;\n",
       "    this.isPlaying = false; \n",
       "  }\n",
       "  \n",
       "  start() {\n",
       "    this.isPlaying = true;\n",
       "  }\n",
       "  \n",
       "  stop() {\n",
       "    this.isPlaying = false;\n",
       "  }\n",
       "}"
      ]
     },
     "execution_count": 3,
     "metadata": {},
     "output_type": "execute_result"
    }
   ],
   "source": [
    "class Song {\n",
    "  constructor(title, artist, duration) {\n",
    "    this.title = title;\n",
    "    this.artist = artist;\n",
    "    this.duration = duration;\n",
    "    this.isPlaying = false; \n",
    "  }\n",
    "  \n",
    "  start() {\n",
    "    this.isPlaying = true;\n",
    "  }\n",
    "  \n",
    "  stop() {\n",
    "    this.isPlaying = false;\n",
    "  }\n",
    "}"
   ]
  },
  {
   "cell_type": "markdown",
   "metadata": {},
   "source": [
    "https://www.packtpub.com/books/content/modular-programming-ecmascript-6\n",
    "http://blog.teamtreehouse.com/get-started-ecmascript-6\n",
    "https://www.airpair.com/javascript/posts/mastering-es6-higher-order-functions-for-arrays"
   ]
  },
  {
   "cell_type": "code",
   "execution_count": null,
   "metadata": {
    "collapsed": true
   },
   "outputs": [],
   "source": []
  }
 ],
 "metadata": {
  "kernelspec": {
   "display_name": "Javascript",
   "language": "",
   "name": "jskernel"
  },
  "language_info": {
   "file_extension": ".js",
   "mimetype": "text/javascript",
   "name": "javascript"
  },
  "widgets": {
   "state": {},
   "version": "1.1.2"
  }
 },
 "nbformat": 4,
 "nbformat_minor": 0
}
