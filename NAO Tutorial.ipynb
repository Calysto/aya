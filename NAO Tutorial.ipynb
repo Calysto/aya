{
 "cells": [
  {
   "cell_type": "markdown",
   "metadata": {},
   "source": [
    "Hello! I am going to walk you through a program that enables Nao to take a picture of an object, save it, and then track it using its head."
   ]
  },
  {
   "cell_type": "markdown",
   "metadata": {},
   "source": [
    "First, we must import our ALProxy from Naoqi which will include all the APIs installed in our robot. Then, we will also import the libraries that we will use later. "
   ]
  },
  {
   "cell_type": "code",
   "execution_count": 1,
   "metadata": {
    "collapsed": true
   },
   "outputs": [],
   "source": [
    "from naoqi import ALProxy\n",
    "import time\n",
    "import sys\n",
    "import Image\n",
    "import vision_definitions"
   ]
  },
  {
   "cell_type": "markdown",
   "metadata": {},
   "source": [
    "Now, I want to create a Robot class and a constructor where I will initializes all the APIs I will use. "
   ]
  },
  {
   "cell_type": "code",
   "execution_count": 2,
   "metadata": {
    "collapsed": true
   },
   "outputs": [],
   "source": [
    "class Robot0:\n",
    "    def __init__(self, ip, port):\n",
    "        self.ip = ip\n",
    "        self.port = port\n",
    "        \n",
    "        #Initializes all the APIs I will use\n",
    "        self.tts = ALProxy(\"ALTextToSpeech\", ip, port)\n",
    "        self.rbd = ALProxy(\"ALRedBallTracker\", ip, port)\n",
    "        self.visual = ALProxy(\"ALVideoDevice\", ip, port)\n",
    "        self.motion = ALProxy(\"ALMotion\", ip, port)\n",
    "        self.life = ALProxy(\"ALAutonomousLife\", ip, port)\n",
    "        self.posture = ALProxy(\"ALRobotPosture\", ip, port)\n",
    "        \n",
    "        #Robot says \"okay\" after it initializes APIs\n",
    "        #Disables robot's autonomous life\n",
    "        self.tts.say(\"okay\")\n",
    "        self.life.setState(\"disabled\")"
   ]
  },
  {
   "cell_type": "markdown",
   "metadata": {},
   "source": [
    "Now, I define a method called save_photo() which will take a picture and save it to the directory. It will print out the image name once it's saved."
   ]
  },
  {
   "cell_type": "code",
   "execution_count": 3,
   "metadata": {
    "collapsed": false
   },
   "outputs": [],
   "source": [
    "class Robot1(Robot0):\n",
    "    def save_photo(self, img_name): #takes 30x40 photo and saves to .py file directory\n",
    "        print (\"Taking photo: \" + img_name)\n",
    "        vidClient = self.visual.subscribeCamera(\"python_client\", 0, 2, 11, 5) #initialize cam with settings\n",
    "        naoImage = self.visual.getImageRemote(vidClient) #taking photo\n",
    "        time.sleep(0.5)\n",
    "        self.visual.unsubscribe(vidClient) #unsubscribe\n",
    "        imageWidth = naoImage[0]\n",
    "        imageHeight = naoImage[1]\n",
    "        array = naoImage[6]\n",
    "        img = Image.frombytes(\"RGB\", (imageWidth, imageHeight), array)\n",
    "        img.save(img_name + \".jpeg\", \"JPEG\")\n",
    "        print (\"Photo \" + img_name + \" saved!\")"
   ]
  },
  {
   "cell_type": "markdown",
   "metadata": {},
   "source": [
    "Now, that the image is saved I will define a method called set_neutral() that will set Nao's head angles to be in the neutral position."
   ]
  },
  {
   "cell_type": "code",
   "execution_count": 4,
   "metadata": {
    "collapsed": true
   },
   "outputs": [],
   "source": [
    "class Robot2(Robot1):\n",
    "    def set_neutral(self):\n",
    "        self.motion.setStiffnesses(\"Head\", 1.0)\n",
    "        self.motion.setAngles(\"HeadPitch\", 0, 0.1)\n",
    "        self.motion.setAngles(\"HeadYaw\", 0, 0.1)\n",
    "        time.sleep(3.0)\n",
    "        self.motion.setStiffnesses(\"Head\", 0)"
   ]
  },
  {
   "cell_type": "markdown",
   "metadata": {},
   "source": [
    " I will also create a method called recognize_and_track() which will access the picture and recognize an specific object within it. "
   ]
  },
  {
   "cell_type": "code",
   "execution_count": 5,
   "metadata": {
    "collapsed": true
   },
   "outputs": [],
   "source": [
    "class Robot(Robot2):\n",
    "    def recognize_and_track(self, target_name, img_name):\n",
    "        #Sets Nao's head to neutral, saves an image, then tracks the object\n",
    "        #Says its found the object once it sees it\n",
    "        #Sets head to neutral after tracker stops\n",
    "\n",
    "        self.set_neutral()\n",
    "        time.sleep(1.0)\n",
    "        self.save_photo(img_name)\n",
    "        self.motion.setStiffnesses(\"Head\", 1.0)\n",
    "        self.rbd.startTracker()\n",
    "        print \"Starting tracker\"\n",
    "        time.sleep(1.5)\n",
    "        self.tts.say(\"Found \" + target_name)\n",
    "        time.sleep(15.0)\n",
    "        print \"Stopping tracker\"\n",
    "        self.rbd.stopTracker()\n",
    "        self.motion.setStiffnesses(\"Head\", 0)\n",
    "        self.set_neutral()"
   ]
  },
  {
   "cell_type": "markdown",
   "metadata": {},
   "source": [
    "Below, I will create a method called test() where I will call all the previous methods.  I will use Hedwig as an example and I will use a black tire/circle as the object to be recognized."
   ]
  },
  {
   "cell_type": "code",
   "execution_count": 6,
   "metadata": {
    "collapsed": false
   },
   "outputs": [],
   "source": [
    "def test():\n",
    "    hedwig = Robot(\"hedwig.brynmawr.edu\", 9559)\n",
    "    hedwig.recognize_and_track(\"circle\", \"circlePhoto\")"
   ]
  },
  {
   "cell_type": "markdown",
   "metadata": {},
   "source": [
    "Now, I will execute the code. "
   ]
  },
  {
   "cell_type": "code",
   "execution_count": 7,
   "metadata": {
    "collapsed": false
   },
   "outputs": [
    {
     "name": "stdout",
     "output_type": "stream",
     "text": [
      "Taking photo: circlePhoto\n",
      "Photo circlePhoto saved!\n",
      "Starting tracker\n",
      "Stopping tracker\n"
     ]
    }
   ],
   "source": [
    "test()"
   ]
  },
  {
   "cell_type": "markdown",
   "metadata": {},
   "source": [
    "Once executed, the program will print the following feedback:"
   ]
  },
  {
   "cell_type": "code",
   "execution_count": 5,
   "metadata": {
    "collapsed": false
   },
   "outputs": [
    {
     "data": {
      "text/html": [
       "<img src = \"http://localhost:8888/files/test_code_feedback.png\">"
      ],
      "text/plain": [
       "<IPython.core.display.HTML object>"
      ]
     },
     "metadata": {},
     "output_type": "display_data"
    }
   ],
   "source": [
    "%%HTML\n",
    "<img src = \"http://localhost:8888/files/test_code_feedback.png\">"
   ]
  },
  {
   "cell_type": "markdown",
   "metadata": {},
   "source": [
    "Also, here is the picture it took:"
   ]
  },
  {
   "cell_type": "code",
   "execution_count": 9,
   "metadata": {
    "collapsed": false
   },
   "outputs": [
    {
     "data": {
      "text/html": [
       "<IMG SRC = http://localhost:8888/files/circlePhoto.jpeg>"
      ],
      "text/plain": [
       "<IPython.core.display.HTML object>"
      ]
     },
     "metadata": {},
     "output_type": "display_data"
    }
   ],
   "source": [
    "%%HTML\n",
    "<IMG SRC = http://localhost:8888/files/circlePhoto.jpeg>"
   ]
  }
 ],
 "metadata": {
  "kernelspec": {
   "display_name": "Python 2",
   "language": "python",
   "name": "python2"
  },
  "language_info": {
   "codemirror_mode": {
    "name": "ipython",
    "version": 2
   },
   "file_extension": ".py",
   "mimetype": "text/x-python",
   "name": "python",
   "nbconvert_exporter": "python",
   "pygments_lexer": "ipython2",
   "version": "2.7.11+"
  }
 },
 "nbformat": 4,
 "nbformat_minor": 0
}
