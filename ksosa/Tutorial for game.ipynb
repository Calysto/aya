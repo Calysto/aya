{
 "cells": [
  {
   "cell_type": "markdown",
   "metadata": {},
   "source": [
    "Hello! This is a tutorial for a game similar to peek-a-boo which the Naos can play. The game is called \"Where's the ball?\" and it uses the idea of subscribing and ubsubscribing to events in order to work. "
   ]
  },
  {
   "cell_type": "markdown",
   "metadata": {},
   "source": [
    "First, we must import our time library from Python and import ALProxy, ALBroker, and ALModule from naoqi. These libraries include the APIs we will use. "
   ]
  },
  {
   "cell_type": "code",
   "execution_count": 6,
   "metadata": {
    "collapsed": true
   },
   "outputs": [],
   "source": [
    "import time\n",
    "from naoqi import ALProxy\n",
    "from naoqi import ALBroker\n",
    "from naoqi import ALModule"
   ]
  },
  {
   "cell_type": "markdown",
   "metadata": {},
   "source": [
    "Now, I am going to create a Robot class and define a constructor. Inside the constructor I will initialize all the APIs I will use and set the broker to listen to any Nao IP addresses available. "
   ]
  },
  {
   "cell_type": "code",
   "execution_count": null,
   "metadata": {
    "collapsed": true
   },
   "outputs": [],
   "source": [
    "class Robot(ALModule):\n",
    "    def __init__(self, name):\n",
    "        self._name = name\n",
    "        self.broker = ALBroker(\"myBroker\",\n",
    "           \"0.0.0.0\",   # listen to anyone\n",
    "           0,           # find a free port and use it\n",
    "           self._name + \".brynmawr.edu\",         # parent broker IP\n",
    "           9559)       # parent broker port\n",
    "\n",
    "        ALModule.__init__(self, name)\n",
    "        \n",
    "        #Initializes APIs I will use\n",
    "        self.tts = ALProxy(\"ALTextToSpeech\")\n",
    "        self.posture = ALProxy(\"ALRobotPosture\")\n",
    "        self.motion = ALProxy(\"ALMotion\")\n",
    "        self.memory = ALProxy(\"ALMemory\")\n",
    "        self.awareness = ALProxy(\"ALBasicAwareness\")"
   ]
  },
  {
   "cell_type": "markdown",
   "metadata": {},
   "source": [
    "Then, I will create the method called cover_eyes() inside the constructor which forces the Nao to raise his hands and cover his eyes. This method uses the ALMotion API to set the angles for the ShoulderRoll, ElbowRoll, ElbowYaw, and ShoulderPitch joints. "
   ]
  },
  {
   "cell_type": "code",
   "execution_count": null,
   "metadata": {
    "collapsed": true
   },
   "outputs": [],
   "source": [
    "        def cover_eyes(self):\n",
    "            self.awareness.stopAwareness()\n",
    "            self.motion.setStiffnesses(\"Head\", 1.0)\n",
    "            self.motion.setAngles(\"HeadPitch\", 0, 0.1)\n",
    "            self.motion.setAngles(\"HeadYaw\", 0, 0.1)\n",
    "            self.motion.setStiffnesses(\"Body\", 1.0)\n",
    "            self.motion.setAngles(\"RShoulderRoll\", [-0.0614018440246582], 0.5)\n",
    "            self.motion.setAngles(\"RElbowRoll\", [1.2809319496154785], 0.5 )\n",
    "            self.motion.setAngles(\"RElbowYaw\", [0.5414600372314453], 0.5 )\n",
    "            self.motion.setAngles(\"RShoulderPitch\", [0.05364799499511719], 0.5 )\n",
    "\n",
    "            self.motion.setAngles(\"LShoulderRoll\", [0.0614018440246582], 0.5)\n",
    "            self.motion.setAngles(\"LElbowRoll\", [-1.2809319496154785], 0.5 )\n",
    "            self.motion.setAngles(\"LElbowYaw\", [-0.5414600372314453], 0.5 )\n",
    "            self.motion.setAngles(\"LShoulderPitch\", [-0.05364799499511719], 0.5 )"
   ]
  },
  {
   "cell_type": "markdown",
   "metadata": {
    "collapsed": true
   },
   "source": [
    "I will also create the method uncover_eyes() which tells the Nao to lower his hands to neutral sitting position."
   ]
  },
  {
   "cell_type": "code",
   "execution_count": null,
   "metadata": {
    "collapsed": true
   },
   "outputs": [],
   "source": [
    "        def uncover_eyes(self):\n",
    "            self.awareness.startAwareness()\n",
    "            self.motion.setStiffnesses(\"Body\", 1.0)\n",
    "            self.motion.setAngles(\"RShoulderRoll\", [-0.25928807258605957], 0.5)\n",
    "            self.motion.setAngles(\"RElbowRoll\", [1.245649814605713], 0.5 )\n",
    "            self.motion.setAngles(\"RElbowYaw\", [0.5015759468078613], 0.5 )\n",
    "            self.motion.setAngles(\"RShoulderPitch\", [0.964928150177002], 0.5 )\n",
    "\n",
    "            self.motion.setAngles(\"LShoulderRoll\", [0.25928807258605957], 0.5)\n",
    "            self.motion.setAngles(\"LElbowRoll\", [-1.245649814605713], 0.5 )\n",
    "            self.motion.setAngles(\"LElbowYaw\", [-0.5015759468078613], 0.5 )\n",
    "            self.motion.setAngles(\"LShoulderPitch\", [0.964928150177002], 0.5 )"
   ]
  },
  {
   "cell_type": "markdown",
   "metadata": {},
   "source": [
    "Now, I will have the robot start off with a greeting and move to its sitting position if it's not already sitting down. "
   ]
  },
  {
   "cell_type": "code",
   "execution_count": null,
   "metadata": {
    "collapsed": true
   },
   "outputs": [],
   "source": [
    "        self.tts.say(\"Hello, my name is \"+ self._name + \"Let's play a game called\" \"Where's the ball\")\n",
    "        \n",
    "        #self.posture.goToPosture(\"StandInit\", 0.5)\n",
    "        uncover_eyes(self)\n",
    "        currentPosture = self.posture.getPosture()\n",
    "        \n",
    "        if currentPosture != 'Sit':\n",
    "            self.tts.say(\"First, place me in an open space so I can sit down.\")\n",
    "            time.sleep(5.0)\n",
    "            self.posture.goToPosture(\"Sit\", 0.5)\n",
    "            time.sleep(3.0)\n",
    "            self.tts.say(\"Thank you, now I feel great.\")"
   ]
  },
  {
   "cell_type": "markdown",
   "metadata": {},
   "source": [
    "Now, I will tell the robot to give instructions out loud on how to play the game. I will also start a timer so that the robot can cover his eyes for less than 10 seconds and then uncover them."
   ]
  },
  {
   "cell_type": "code",
   "execution_count": null,
   "metadata": {
    "collapsed": true
   },
   "outputs": [],
   "source": [
    "        self.tts.say(\"Grab the red ball and hide it from me.\" + \n",
    "                     \" I will tell you once I see the ball.\")\n",
    "        \n",
    "        self.lastSeen = 0\n",
    "        self.lastNotSeen = 0\n",
    "        \n",
    "        START = time.time()\n",
    "\n",
    "        while time.time() - START < 10:\n",
    "\n",
    "            cover_eyes(self)\n",
    "\n",
    "            if time.time() - self.lastNotSeen > 5:\n",
    "                self.tts.say(\"Where's the ball? I don't see the ball\")\n",
    "                self.lastNotSeen = time.time()    \n",
    "        \n",
    "        uncover_eyes(self)"
   ]
  },
  {
   "cell_type": "markdown",
   "metadata": {},
   "source": [
    "Now, I will subscribe to the event called \"redBallDetected\" so that the robot can speak everytime he sees the red ball. "
   ]
  },
  {
   "cell_type": "code",
   "execution_count": null,
   "metadata": {
    "collapsed": true
   },
   "outputs": [],
   "source": [
    "        self.memory.subscribeToEvent(\"redBallDetected\",\n",
    "            self._name,\n",
    "            \"onredBallDetected\")"
   ]
  },
  {
   "cell_type": "markdown",
   "metadata": {},
   "source": [
    "Below, I will define the method onredBallDetected(). For instance, the robot must be unsubscribed to the event \"redBallDetected\" when speaking. If we don't unsubscribe the robot from the event, it will create a queue of all the instances when it sees the ball and it will keep saying \"I see the ball\" even when the ball is no longer in his field of vision. Then, I will also start a timer so that the robot can only say \"I see the ball\" once every five seconds."
   ]
  },
  {
   "cell_type": "code",
   "execution_count": null,
   "metadata": {
    "collapsed": true
   },
   "outputs": [],
   "source": [
    "def onredBallDetected(self, *args):\n",
    "        # Unsubscribe to the event when talking,\n",
    "        # to avoid repetitions\n",
    "\n",
    "        self.memory.unsubscribeToEvent(\"redBallDetected\",\n",
    "            self._name)\n",
    "        if time.time() - self.lastSeen > 5:\n",
    "            self.tts.say(\"I see the ball\")\n",
    "            self.lastSeen = time.time()\n",
    "            \n",
    "        # Subscribe again to the event\n",
    "        self.memory.subscribeToEvent(\"redBallDetected\",\n",
    "            self._name,\n",
    "            \"onredBallDetected\")"
   ]
  },
  {
   "cell_type": "markdown",
   "metadata": {},
   "source": [
    "I will also create a method called stop() so that I can unsubscribe to the event and make the program stop."
   ]
  },
  {
   "cell_type": "code",
   "execution_count": null,
   "metadata": {
    "collapsed": true
   },
   "outputs": [],
   "source": [
    "    def stop(self):\n",
    "        self.memory.unsubscribeToEvent(\"redBallDetected\",\n",
    "            self._name)\n",
    "        self.broker.shutdown()"
   ]
  },
  {
   "cell_type": "markdown",
   "metadata": {},
   "source": [
    "Now, I will create a new robot and execute the code. I will use Hedwig as an example. It is important to remember that my broker/name must be exactly the same as the global variable name."
   ]
  },
  {
   "cell_type": "code",
   "execution_count": 11,
   "metadata": {
    "collapsed": true
   },
   "outputs": [],
   "source": [
    " hedwig = Robot(\"hedwig\")"
   ]
  },
  {
   "cell_type": "markdown",
   "metadata": {
    "collapsed": false
   },
   "source": [
    "Once I have ran the code above and proven know it works, I can execute the stop() method to force the broker to shut down."
   ]
  },
  {
   "cell_type": "code",
   "execution_count": null,
   "metadata": {
    "collapsed": false
   },
   "outputs": [],
   "source": [
    "hedwig.stop()"
   ]
  }
 ],
 "metadata": {
  "kernelspec": {
   "display_name": "Python 2",
   "language": "python",
   "name": "python2"
  },
  "language_info": {
   "codemirror_mode": {
    "name": "ipython",
    "version": 2
   },
   "file_extension": ".py",
   "mimetype": "text/x-python",
   "name": "python",
   "nbconvert_exporter": "python",
   "pygments_lexer": "ipython2",
   "version": "2.7.11+"
  }
 },
 "nbformat": 4,
 "nbformat_minor": 0
}
