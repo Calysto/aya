{
 "cells": [
  {
   "cell_type": "code",
   "execution_count": null,
   "metadata": {
    "collapsed": true
   },
   "outputs": [],
   "source": [
    "# Get an image from NAO. Display it and save it using PIL.\n",
    "\n",
    "import sys\n",
    "import time\n",
    "\n",
    "# Python Image Library\n",
    "from PIL import Image\n",
    "\n",
    "from naoqi import ALProxy\n",
    "\n",
    "import IPython.display as display"
   ]
  },
  {
   "cell_type": "code",
   "execution_count": null,
   "metadata": {
    "collapsed": true
   },
   "outputs": [],
   "source": [
    "def showNaoImage(IP, PORT):\n",
    "    \"\"\"\n",
    "    First get an image from Nao, then show it on the screen with PIL.\n",
    "    \"\"\"\n",
    "    camProxy = ALProxy(\"ALVideoDevice\", IP, PORT)\n",
    "\n",
    "    videoClient = camProxy.subscribe(\"python_client\", 2, 11, 5)\n",
    "\n",
    "    t0 = time.time()\n",
    "\n",
    "    # Get a camera image.\n",
    "    # image[6] contains the image data passed as an array of ASCII chars.\n",
    "    naoImage = camProxy.getImageRemote(videoClient)\n",
    "\n",
    "    t1 = time.time()\n",
    "\n",
    "    # Time the image transfer.\n",
    "    print \"acquisition delay \", t1 - t0\n",
    "\n",
    "    camProxy.unsubscribe(videoClient)\n",
    "\n",
    "\n",
    "    # Now we work with the image returned and save it as a PNG  using ImageDraw\n",
    "    # package.\n",
    "\n",
    "    # Get the image size and pixel array.\n",
    "    imageWidth = naoImage[0]\n",
    "    imageHeight = naoImage[1]\n",
    "    array = naoImage[6]\n",
    "\n",
    "    # Create a PIL Image from our pixel array.\n",
    "    im = Image.frombytes(\"RGB\", (imageWidth, imageHeight), array)\n",
    "\n",
    "    # Save the image.\n",
    "    im.save(\"camImage.png\", \"PNG\")\n",
    "    print \"Saving image\"\n",
    "    return \"camImage.png\""
   ]
  },
  {
   "cell_type": "code",
   "execution_count": null,
   "metadata": {
    "collapsed": true
   },
   "outputs": [],
   "source": [
    "for i in range(10):\n",
    "        filename = showNaoImage(\"hedwig.brynmawr.edu\", 9559)\n",
    "        display.clear_output(wait=True)\n",
    "        display.display(display.Image(filename=filename))\n",
    "        time.sleep(1)"
   ]
  }
 ],
 "metadata": {
  "kernelspec": {
   "display_name": "Python 2",
   "language": "python",
   "name": "python2"
  },
  "language_info": {
   "codemirror_mode": {
    "name": "ipython",
    "version": 2
   },
   "file_extension": ".py",
   "mimetype": "text/x-python",
   "name": "python",
   "nbconvert_exporter": "python",
   "pygments_lexer": "ipython2",
   "version": "2.7.11+"
  }
 },
 "nbformat": 4,
 "nbformat_minor": 0
}
